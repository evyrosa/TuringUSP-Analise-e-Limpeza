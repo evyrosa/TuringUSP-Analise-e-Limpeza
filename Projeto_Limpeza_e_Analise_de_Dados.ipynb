{
 "cells": [
  {
   "cell_type": "markdown",
   "id": "c7f3bde7-ad7b-4410-b9ea-d7c55bd7a99b",
   "metadata": {},
   "source": [
    " # 🎲 ANÁLISE E LIMPEZA DE DADOS - GAMES 🎲\n",
    " \n",
    " Por Evelyn Rosa"
   ]
  },
  {
   "cell_type": "markdown",
   "id": "0fccabb9-3d5c-4b4a-94a2-840e7e5c3e5b",
   "metadata": {},
   "source": [
    "<h3> Agenda: </h3>"
   ]
  },
  {
   "cell_type": "markdown",
   "id": "2d9bba12-ca70-4735-9855-9824b4ae9b42",
   "metadata": {},
   "source": [
    "1. Informações gerais sobre o DataFrame;\n",
    "2. Importando as bibliotecas eo DataFrame;\n",
    "3. Checando as informações do DataFrame;\n",
    "4. Visualizando os dados;\n",
    "5. Limpando os dados;\n",
    "6. Analisando os dados;\n",
    "7. Conclusão."
   ]
  },
  {
   "cell_type": "markdown",
   "id": "60f6c49b-3f78-476b-8f68-e3ec80275ab9",
   "metadata": {},
   "source": [
    " <H3> 1. Informações Gerais Sobre o DataFrame </H3>\n",
    "\n",
    "O Dataframe possui informações sobre os jogos avaliados na plataforma de games Metacritic. Os detalhes sobre cada coluna são:"
   ]
  },
  {
   "cell_type": "markdown",
   "id": "88ae45b3-6c3a-4630-a1cb-b5429ad669de",
   "metadata": {},
   "source": [
    "1. name - nome do jogo;\n",
    "2. platform - plataforma do jogo;\n",
    "3. developer - desenvolvedora do jogo;\n",
    "4. publisher - publicadora do jogo;\n",
    "5. genre(s) - gênero do jogo;\n",
    "6. players - número de jogadores;\n",
    "7. rating - avaliação ESRB;\n",
    "8. attribute - informação adicional do jogo;\n",
    "9. release_date - data de lançamento do jogo;\n",
    "10. link - url da página do jogo;\n",
    "11. critic_positive - número de reviews positivas da crítica;\n",
    "12. critic_neutral - número de reviews neutras da crítica;\n",
    "13. critic_negative - número de reviews negativas da crítica;\n",
    "14. metascore - média do score da crítica;\n",
    "15. user_positive - número de reviews positivas dos usuários\n",
    "16. user_neutral - número de reviews neutras dos usuários;\n",
    "17. user_negative - número de reviews negativas dos usuários;\n",
    "18. user_score - média do score dos usuários.\n"
   ]
  },
  {
   "cell_type": "markdown",
   "id": "f7c9047c-b7ba-4662-83cd-c12dbac14480",
   "metadata": {},
   "source": [
    "<h3>2. Importando as Bibliotecas eo DataFrame</h3>"
   ]
  },
  {
   "cell_type": "markdown",
   "id": "594692ed-e6c5-405e-a412-e9d7ac91d879",
   "metadata": {},
   "source": [
    "O primeiro passo em um projeto de Limpeza e Análise de dados é importar as bibliotecas que utilizaremos durante o trabalho."
   ]
  },
  {
   "cell_type": "code",
   "execution_count": 1,
   "id": "55c80b18-de0d-4ecb-88fd-f048dddc1b64",
   "metadata": {},
   "outputs": [],
   "source": [
    "# Bibliotecas\n",
    "import pandas as pd # para visualizar e printar os dados\n",
    "import matplotlib.pyplot as plt # para construir e customizar gráficos\n",
    "import seaborn as sns  # para visualizar gráficos\n",
    "import numpy as np # para operações matemáticas\n",
    "\n",
    "%matplotlib inline "
   ]
  },
  {
   "cell_type": "markdown",
   "id": "b616cf47-7cda-4fe5-bc81-9df496103d12",
   "metadata": {},
   "source": [
    "Em seguida, é necessário importar o dataset de onde as informações serão extraídas para limpeza e analize."
   ]
  },
  {
   "cell_type": "code",
   "execution_count": 2,
   "id": "586eeb1c-438b-4ef3-b963-99cf162c7e30",
   "metadata": {},
   "outputs": [],
   "source": [
    "# DataFrame\n",
    "df = pd.read_csv(\"games.csv\")"
   ]
  },
  {
   "cell_type": "markdown",
   "id": "24d264ac-6c8a-493a-861a-10f1ce0b919e",
   "metadata": {},
   "source": [
    "<h3>3. Checando as informações do DataFrame</h3>\n",
    "Analisando as Features"
   ]
  },
  {
   "cell_type": "code",
   "execution_count": 3,
   "id": "a6e6440b-59ab-4952-9da5-38859de2b6b4",
   "metadata": {},
   "outputs": [
    {
     "name": "stdout",
     "output_type": "stream",
     "text": [
      "<class 'pandas.core.frame.DataFrame'>\n",
      "RangeIndex: 20422 entries, 0 to 20421\n",
      "Data columns (total 18 columns):\n",
      " #   Column           Non-Null Count  Dtype  \n",
      "---  ------           --------------  -----  \n",
      " 0   name             20422 non-null  object \n",
      " 1   platform         20422 non-null  object \n",
      " 2   developer        20363 non-null  object \n",
      " 3   publisher        20392 non-null  object \n",
      " 4   genre(s)         20422 non-null  object \n",
      " 5   players          13193 non-null  object \n",
      " 6   rating           18138 non-null  object \n",
      " 7   attribute        324 non-null    object \n",
      " 8   release_date     20422 non-null  object \n",
      " 9   link             20422 non-null  object \n",
      " 10  critic_positive  20422 non-null  int64  \n",
      " 11  critic_neutral   20422 non-null  int64  \n",
      " 12  critic_negative  19084 non-null  float64\n",
      " 13  metascore        20422 non-null  int64  \n",
      " 14  user_positive    20422 non-null  int64  \n",
      " 15  user_neutral     20409 non-null  float64\n",
      " 16  user_negative    20422 non-null  int64  \n",
      " 17  user_score       20422 non-null  object \n",
      "dtypes: float64(2), int64(5), object(11)\n",
      "memory usage: 2.8+ MB\n"
     ]
    }
   ],
   "source": [
    "df.info()"
   ]
  },
  {
   "cell_type": "markdown",
   "id": "fe3a8eff-f511-4e26-8fd0-1cdf341b52c7",
   "metadata": {},
   "source": [
    "- O DataFrame possui 20422 linhas e 18 colunas.\n",
    "\n",
    "- Há 20422 entradas mas nem todas as colunas apresentam esse valor, o que significa que existem dados faltantes (quantidade de dados nulos).\n",
    "\n",
    "- Existem 11 colunas com dados categóricos (object) e 7 com dados numéricos (int e float)."
   ]
  },
  {
   "cell_type": "markdown",
   "id": "07791466-ad64-49ab-a109-e12a031d966a",
   "metadata": {},
   "source": [
    "Como foi observado, existem dados que não estão de acordo com o dataset. Na coluna Plataform e na coluna Genre(s) é possível notar os respectivos dados \" quando vai ser o churrasturing?\" e \"agora eu sou solteira e ninguém vai me segurar\" que não se encaixam nas informações da coluna. \n",
    "Para que possamos fazer uma boa análise de dados é preciso antes verificar a consistência das informações e remover o que é dispensável. A melhor forma de fazer isso é visualizando e limpando os dados."
   ]
  },
  {
   "cell_type": "markdown",
   "id": "c9a282f4-929d-405f-b100-6f61eb7b7e05",
   "metadata": {},
   "source": [
    "   <h3>4. Visualizando os dados </h3>"
   ]
  },
  {
   "cell_type": "markdown",
   "id": "e5778c99-eb0e-4a5f-bf34-3505d848e695",
   "metadata": {},
   "source": [
    "Para enxergar melhor as informações de cada coluna e assim perceber inconsistencias, basta importar as primeiras linhas para que assim seja possível ter um panorama inicial dos dados:\n"
   ]
  },
  {
   "cell_type": "code",
   "execution_count": 4,
   "id": "22d1c1ee-05b2-4f9f-b5b4-6b580990670f",
   "metadata": {},
   "outputs": [
    {
     "data": {
      "text/html": [
       "<div>\n",
       "<style scoped>\n",
       "    .dataframe tbody tr th:only-of-type {\n",
       "        vertical-align: middle;\n",
       "    }\n",
       "\n",
       "    .dataframe tbody tr th {\n",
       "        vertical-align: top;\n",
       "    }\n",
       "\n",
       "    .dataframe thead th {\n",
       "        text-align: right;\n",
       "    }\n",
       "</style>\n",
       "<table border=\"1\" class=\"dataframe\">\n",
       "  <thead>\n",
       "    <tr style=\"text-align: right;\">\n",
       "      <th></th>\n",
       "      <th>name</th>\n",
       "      <th>platform</th>\n",
       "      <th>developer</th>\n",
       "      <th>publisher</th>\n",
       "      <th>genre(s)</th>\n",
       "      <th>players</th>\n",
       "      <th>rating</th>\n",
       "      <th>attribute</th>\n",
       "      <th>release_date</th>\n",
       "      <th>link</th>\n",
       "      <th>critic_positive</th>\n",
       "      <th>critic_neutral</th>\n",
       "      <th>critic_negative</th>\n",
       "      <th>metascore</th>\n",
       "      <th>user_positive</th>\n",
       "      <th>user_neutral</th>\n",
       "      <th>user_negative</th>\n",
       "      <th>user_score</th>\n",
       "    </tr>\n",
       "  </thead>\n",
       "  <tbody>\n",
       "    <tr>\n",
       "      <th>0</th>\n",
       "      <td>Command &amp; Conquer</td>\n",
       "      <td>quando vai ser o churrasturing?</td>\n",
       "      <td>NaN</td>\n",
       "      <td>NaN</td>\n",
       "      <td>AGORA EU SOU SOLTEIRA E NINGUEM VAI ME SEGURAR...</td>\n",
       "      <td>1-4</td>\n",
       "      <td>aceitas pix</td>\n",
       "      <td>NaN</td>\n",
       "      <td>Aug 31, 1995</td>\n",
       "      <td>/game/pc/command-conquer</td>\n",
       "      <td>5</td>\n",
       "      <td>0</td>\n",
       "      <td>NaN</td>\n",
       "      <td>94</td>\n",
       "      <td>47</td>\n",
       "      <td>NaN</td>\n",
       "      <td>1</td>\n",
       "      <td>8.9</td>\n",
       "    </tr>\n",
       "    <tr>\n",
       "      <th>1</th>\n",
       "      <td>Full Throttle</td>\n",
       "      <td>PC</td>\n",
       "      <td>LucasArts</td>\n",
       "      <td>LucasArts</td>\n",
       "      <td>Adventure</td>\n",
       "      <td>NaN</td>\n",
       "      <td>NaN</td>\n",
       "      <td>NaN</td>\n",
       "      <td>Apr 30, 1995</td>\n",
       "      <td>/game/pc/full-throttle</td>\n",
       "      <td>6</td>\n",
       "      <td>2</td>\n",
       "      <td>0.0</td>\n",
       "      <td>86</td>\n",
       "      <td>18</td>\n",
       "      <td>1.0</td>\n",
       "      <td>0</td>\n",
       "      <td>8.7</td>\n",
       "    </tr>\n",
       "    <tr>\n",
       "      <th>2</th>\n",
       "      <td>Battle Arena Toshinden</td>\n",
       "      <td>PS</td>\n",
       "      <td>Tamsoft</td>\n",
       "      <td>SCEA</td>\n",
       "      <td>Action</td>\n",
       "      <td>1-2</td>\n",
       "      <td>T</td>\n",
       "      <td>NaN</td>\n",
       "      <td>Sep  9, 1995</td>\n",
       "      <td>/game/playstation/battle-arena-toshinden</td>\n",
       "      <td>1</td>\n",
       "      <td>3</td>\n",
       "      <td>0.0</td>\n",
       "      <td>69</td>\n",
       "      <td>1</td>\n",
       "      <td>0.0</td>\n",
       "      <td>1</td>\n",
       "      <td>5.8</td>\n",
       "    </tr>\n",
       "    <tr>\n",
       "      <th>3</th>\n",
       "      <td>Sid Meier's Civilization II</td>\n",
       "      <td>PC</td>\n",
       "      <td>MPS Labs</td>\n",
       "      <td>MicroProse</td>\n",
       "      <td>Strategy</td>\n",
       "      <td>1 Player</td>\n",
       "      <td>K-A</td>\n",
       "      <td>NaN</td>\n",
       "      <td>Feb 29, 1996</td>\n",
       "      <td>/game/pc/sid-meiers-civilization-ii</td>\n",
       "      <td>7</td>\n",
       "      <td>0</td>\n",
       "      <td>0.0</td>\n",
       "      <td>94</td>\n",
       "      <td>46</td>\n",
       "      <td>0.0</td>\n",
       "      <td>1</td>\n",
       "      <td>8.9</td>\n",
       "    </tr>\n",
       "    <tr>\n",
       "      <th>4</th>\n",
       "      <td>Quake</td>\n",
       "      <td>PC</td>\n",
       "      <td>id Software</td>\n",
       "      <td>id Software</td>\n",
       "      <td>Action</td>\n",
       "      <td>1-16</td>\n",
       "      <td>M</td>\n",
       "      <td>NaN</td>\n",
       "      <td>Jun 22, 1996</td>\n",
       "      <td>/game/pc/quake</td>\n",
       "      <td>9</td>\n",
       "      <td>0</td>\n",
       "      <td>0.0</td>\n",
       "      <td>94</td>\n",
       "      <td>84</td>\n",
       "      <td>4.0</td>\n",
       "      <td>1</td>\n",
       "      <td>8.8</td>\n",
       "    </tr>\n",
       "  </tbody>\n",
       "</table>\n",
       "</div>"
      ],
      "text/plain": [
       "                          name                         platform    developer  \\\n",
       "0            Command & Conquer  quando vai ser o churrasturing?          NaN   \n",
       "1                Full Throttle                               PC    LucasArts   \n",
       "2       Battle Arena Toshinden                               PS      Tamsoft   \n",
       "3  Sid Meier's Civilization II                               PC     MPS Labs   \n",
       "4                        Quake                               PC  id Software   \n",
       "\n",
       "     publisher                                           genre(s)   players  \\\n",
       "0          NaN  AGORA EU SOU SOLTEIRA E NINGUEM VAI ME SEGURAR...      1-4    \n",
       "1    LucasArts                                          Adventure       NaN   \n",
       "2         SCEA                                             Action      1-2    \n",
       "3   MicroProse                                           Strategy  1 Player   \n",
       "4  id Software                                             Action     1-16    \n",
       "\n",
       "        rating attribute  release_date  \\\n",
       "0  aceitas pix       NaN  Aug 31, 1995   \n",
       "1          NaN       NaN  Apr 30, 1995   \n",
       "2            T       NaN  Sep  9, 1995   \n",
       "3          K-A       NaN  Feb 29, 1996   \n",
       "4            M       NaN  Jun 22, 1996   \n",
       "\n",
       "                                       link  critic_positive  critic_neutral  \\\n",
       "0                  /game/pc/command-conquer                5               0   \n",
       "1                    /game/pc/full-throttle                6               2   \n",
       "2  /game/playstation/battle-arena-toshinden                1               3   \n",
       "3       /game/pc/sid-meiers-civilization-ii                7               0   \n",
       "4                            /game/pc/quake                9               0   \n",
       "\n",
       "   critic_negative  metascore  user_positive  user_neutral  user_negative  \\\n",
       "0              NaN         94             47           NaN              1   \n",
       "1              0.0         86             18           1.0              0   \n",
       "2              0.0         69              1           0.0              1   \n",
       "3              0.0         94             46           0.0              1   \n",
       "4              0.0         94             84           4.0              1   \n",
       "\n",
       "  user_score  \n",
       "0        8.9  \n",
       "1        8.7  \n",
       "2        5.8  \n",
       "3        8.9  \n",
       "4        8.8  "
      ]
     },
     "execution_count": 4,
     "metadata": {},
     "output_type": "execute_result"
    }
   ],
   "source": [
    "df.head()"
   ]
  },
  {
   "cell_type": "markdown",
   "id": "e6000eda-f797-4de2-813d-cd02fd7ae824",
   "metadata": {},
   "source": [
    "Outra boa alternativa para a viasualização de erros é mudar a ordem do dataframe elencando as informações de acordo com a sua popularidade, essa opção ajuda a ver mais rapidamente dados destoantes.\n",
    "\n",
    "Usaremos a coluna Genre(s) afim de ordenar as entradas do maior até o menor. Ou seja, do gênero mais popular até o menos popular."
   ]
  },
  {
   "cell_type": "code",
   "execution_count": 5,
   "id": "2d45910f-77ba-494a-8e71-d385d8860c3f",
   "metadata": {},
   "outputs": [
    {
     "data": {
      "text/html": [
       "<div>\n",
       "<style scoped>\n",
       "    .dataframe tbody tr th:only-of-type {\n",
       "        vertical-align: middle;\n",
       "    }\n",
       "\n",
       "    .dataframe tbody tr th {\n",
       "        vertical-align: top;\n",
       "    }\n",
       "\n",
       "    .dataframe thead th {\n",
       "        text-align: right;\n",
       "    }\n",
       "</style>\n",
       "<table border=\"1\" class=\"dataframe\">\n",
       "  <thead>\n",
       "    <tr style=\"text-align: right;\">\n",
       "      <th></th>\n",
       "      <th>name</th>\n",
       "      <th>platform</th>\n",
       "      <th>developer</th>\n",
       "      <th>publisher</th>\n",
       "      <th>genre(s)</th>\n",
       "      <th>players</th>\n",
       "      <th>rating</th>\n",
       "      <th>attribute</th>\n",
       "      <th>release_date</th>\n",
       "      <th>link</th>\n",
       "      <th>critic_positive</th>\n",
       "      <th>critic_neutral</th>\n",
       "      <th>critic_negative</th>\n",
       "      <th>metascore</th>\n",
       "      <th>user_positive</th>\n",
       "      <th>user_neutral</th>\n",
       "      <th>user_negative</th>\n",
       "      <th>user_score</th>\n",
       "    </tr>\n",
       "  </thead>\n",
       "  <tbody>\n",
       "    <tr>\n",
       "      <th>15665</th>\n",
       "      <td>Arcania: The Complete Tale</td>\n",
       "      <td>PS4</td>\n",
       "      <td>Nordic Games Publishing</td>\n",
       "      <td>Nordic Games Publishing</td>\n",
       "      <td>Western-Style</td>\n",
       "      <td>NaN</td>\n",
       "      <td>T</td>\n",
       "      <td>NaN</td>\n",
       "      <td>May 12, 2015</td>\n",
       "      <td>/game/playstation-4/arcania-the-complete-tale</td>\n",
       "      <td>0</td>\n",
       "      <td>2</td>\n",
       "      <td>NaN</td>\n",
       "      <td>42</td>\n",
       "      <td>2</td>\n",
       "      <td>4.0</td>\n",
       "      <td>4</td>\n",
       "      <td>4.8</td>\n",
       "    </tr>\n",
       "    <tr>\n",
       "      <th>10514</th>\n",
       "      <td>Combat Mission: Battle for Normandy</td>\n",
       "      <td>PC</td>\n",
       "      <td>Battlefront.com</td>\n",
       "      <td>Battlefront.com</td>\n",
       "      <td>Wargame</td>\n",
       "      <td>NaN</td>\n",
       "      <td>NaN</td>\n",
       "      <td>NaN</td>\n",
       "      <td>May 17, 2011</td>\n",
       "      <td>/game/pc/combat-mission-battle-for-normandy</td>\n",
       "      <td>3</td>\n",
       "      <td>1</td>\n",
       "      <td>0.0</td>\n",
       "      <td>81</td>\n",
       "      <td>16</td>\n",
       "      <td>4.0</td>\n",
       "      <td>7</td>\n",
       "      <td>5.4</td>\n",
       "    </tr>\n",
       "    <tr>\n",
       "      <th>12316</th>\n",
       "      <td>Damage Inc.: Pacific Squadron WWII</td>\n",
       "      <td>X360</td>\n",
       "      <td>Mad Catz</td>\n",
       "      <td>Mad Catz</td>\n",
       "      <td>WWII</td>\n",
       "      <td>NaN</td>\n",
       "      <td>T</td>\n",
       "      <td>NaN</td>\n",
       "      <td>Aug 28, 2012</td>\n",
       "      <td>/game/xbox-360/damage-inc-pacific-squadron-wwii</td>\n",
       "      <td>1</td>\n",
       "      <td>12</td>\n",
       "      <td>11.0</td>\n",
       "      <td>49</td>\n",
       "      <td>0</td>\n",
       "      <td>0.0</td>\n",
       "      <td>1</td>\n",
       "      <td>5.5</td>\n",
       "    </tr>\n",
       "    <tr>\n",
       "      <th>13837</th>\n",
       "      <td>IL-2 Sturmovik: Battle of Stalingrad</td>\n",
       "      <td>PC</td>\n",
       "      <td>1C Game Studios</td>\n",
       "      <td>Excalibur Publishing Limited</td>\n",
       "      <td>WWI</td>\n",
       "      <td>NaN</td>\n",
       "      <td>T</td>\n",
       "      <td>NaN</td>\n",
       "      <td>Aug 14, 2014</td>\n",
       "      <td>/game/pc/il-2-sturmovik-battle-of-stalingrad</td>\n",
       "      <td>3</td>\n",
       "      <td>4</td>\n",
       "      <td>0.0</td>\n",
       "      <td>74</td>\n",
       "      <td>85</td>\n",
       "      <td>23.0</td>\n",
       "      <td>63</td>\n",
       "      <td>6.0</td>\n",
       "    </tr>\n",
       "    <tr>\n",
       "      <th>13992</th>\n",
       "      <td>The Sims 4</td>\n",
       "      <td>PC</td>\n",
       "      <td>Maxis</td>\n",
       "      <td>Electronic Arts</td>\n",
       "      <td>Virtual Life</td>\n",
       "      <td>No Online Multiplayer</td>\n",
       "      <td>T</td>\n",
       "      <td>NaN</td>\n",
       "      <td>Sep  2, 2014</td>\n",
       "      <td>/game/pc/the-sims-4</td>\n",
       "      <td>31</td>\n",
       "      <td>41</td>\n",
       "      <td>2.0</td>\n",
       "      <td>70</td>\n",
       "      <td>189</td>\n",
       "      <td>146.0</td>\n",
       "      <td>496</td>\n",
       "      <td>4.1</td>\n",
       "    </tr>\n",
       "    <tr>\n",
       "      <th>13949</th>\n",
       "      <td>Tropico 5</td>\n",
       "      <td>X360</td>\n",
       "      <td>Haemimont, Haemimont Games</td>\n",
       "      <td>Kalypso</td>\n",
       "      <td>Tycoon</td>\n",
       "      <td>NaN</td>\n",
       "      <td>T</td>\n",
       "      <td>NaN</td>\n",
       "      <td>Nov 11, 2014</td>\n",
       "      <td>/game/xbox-360/tropico-5</td>\n",
       "      <td>1</td>\n",
       "      <td>3</td>\n",
       "      <td>0.0</td>\n",
       "      <td>71</td>\n",
       "      <td>0</td>\n",
       "      <td>2.0</td>\n",
       "      <td>1</td>\n",
       "      <td>7.4</td>\n",
       "    </tr>\n",
       "    <tr>\n",
       "      <th>13000</th>\n",
       "      <td>Zoo Tycoon</td>\n",
       "      <td>XONE</td>\n",
       "      <td>Frontier Developments</td>\n",
       "      <td>Microsoft Game Studios</td>\n",
       "      <td>Tycoon</td>\n",
       "      <td>Up to 4</td>\n",
       "      <td>E</td>\n",
       "      <td>NaN</td>\n",
       "      <td>Nov 22, 2013</td>\n",
       "      <td>/game/xbox-one/zoo-tycoon</td>\n",
       "      <td>12</td>\n",
       "      <td>32</td>\n",
       "      <td>NaN</td>\n",
       "      <td>68</td>\n",
       "      <td>7</td>\n",
       "      <td>9.0</td>\n",
       "      <td>10</td>\n",
       "      <td>3.1</td>\n",
       "    </tr>\n",
       "    <tr>\n",
       "      <th>13787</th>\n",
       "      <td>Tropico 5</td>\n",
       "      <td>PC</td>\n",
       "      <td>Haemimont, Haemimont Games</td>\n",
       "      <td>Kalypso</td>\n",
       "      <td>Tycoon</td>\n",
       "      <td>NaN</td>\n",
       "      <td>T</td>\n",
       "      <td>NaN</td>\n",
       "      <td>May 23, 2014</td>\n",
       "      <td>/game/pc/tropico-5</td>\n",
       "      <td>31</td>\n",
       "      <td>19</td>\n",
       "      <td>1.0</td>\n",
       "      <td>75</td>\n",
       "      <td>28</td>\n",
       "      <td>23.0</td>\n",
       "      <td>26</td>\n",
       "      <td>7.0</td>\n",
       "    </tr>\n",
       "    <tr>\n",
       "      <th>17122</th>\n",
       "      <td>RollerCoaster Tycoon World</td>\n",
       "      <td>PC</td>\n",
       "      <td>Nvizzio Creations</td>\n",
       "      <td>Atari</td>\n",
       "      <td>Tycoon</td>\n",
       "      <td>No Online Multiplayer</td>\n",
       "      <td>E</td>\n",
       "      <td>NaN</td>\n",
       "      <td>Nov 16, 2016</td>\n",
       "      <td>/game/pc/rollercoaster-tycoon-world</td>\n",
       "      <td>0</td>\n",
       "      <td>2</td>\n",
       "      <td>5.0</td>\n",
       "      <td>43</td>\n",
       "      <td>4</td>\n",
       "      <td>1.0</td>\n",
       "      <td>20</td>\n",
       "      <td>2.1</td>\n",
       "    </tr>\n",
       "    <tr>\n",
       "      <th>14832</th>\n",
       "      <td>Tropico 5</td>\n",
       "      <td>PS4</td>\n",
       "      <td>Haemimont, Haemimont Games</td>\n",
       "      <td>Kalypso</td>\n",
       "      <td>Tycoon</td>\n",
       "      <td>Up to 4</td>\n",
       "      <td>T</td>\n",
       "      <td>NaN</td>\n",
       "      <td>Apr 28, 2015</td>\n",
       "      <td>/game/playstation-4/tropico-5</td>\n",
       "      <td>12</td>\n",
       "      <td>5</td>\n",
       "      <td>0.0</td>\n",
       "      <td>76</td>\n",
       "      <td>11</td>\n",
       "      <td>7.0</td>\n",
       "      <td>6</td>\n",
       "      <td>7.1</td>\n",
       "    </tr>\n",
       "    <tr>\n",
       "      <th>15951</th>\n",
       "      <td>Atlas Reactor</td>\n",
       "      <td>PC</td>\n",
       "      <td>Trion Worlds</td>\n",
       "      <td>Trion Worlds</td>\n",
       "      <td>Turn-Based</td>\n",
       "      <td>Online Multiplayer</td>\n",
       "      <td>NaN</td>\n",
       "      <td>NaN</td>\n",
       "      <td>Oct  4, 2016</td>\n",
       "      <td>/game/pc/atlas-reactor</td>\n",
       "      <td>11</td>\n",
       "      <td>1</td>\n",
       "      <td>0.0</td>\n",
       "      <td>81</td>\n",
       "      <td>13</td>\n",
       "      <td>1.0</td>\n",
       "      <td>2</td>\n",
       "      <td>7.5</td>\n",
       "    </tr>\n",
       "    <tr>\n",
       "      <th>15450</th>\n",
       "      <td>Rory McIlroy PGA Tour</td>\n",
       "      <td>PS4</td>\n",
       "      <td>EA Tiburon</td>\n",
       "      <td>EA Sports</td>\n",
       "      <td>Traditional</td>\n",
       "      <td>Up to 8</td>\n",
       "      <td>E</td>\n",
       "      <td>NaN</td>\n",
       "      <td>Jul 14, 2015</td>\n",
       "      <td>/game/playstation-4/rory-mcilroy-pga-tour</td>\n",
       "      <td>5</td>\n",
       "      <td>27</td>\n",
       "      <td>NaN</td>\n",
       "      <td>61</td>\n",
       "      <td>4</td>\n",
       "      <td>12.0</td>\n",
       "      <td>28</td>\n",
       "      <td>3.7</td>\n",
       "    </tr>\n",
       "    <tr>\n",
       "      <th>13968</th>\n",
       "      <td>The Golf Club</td>\n",
       "      <td>PC</td>\n",
       "      <td>HB Studios Multimedia</td>\n",
       "      <td>HB Studios Multimedia</td>\n",
       "      <td>Traditional</td>\n",
       "      <td>NaN</td>\n",
       "      <td>E</td>\n",
       "      <td>NaN</td>\n",
       "      <td>Aug 19, 2014</td>\n",
       "      <td>/game/pc/the-golf-club</td>\n",
       "      <td>3</td>\n",
       "      <td>8</td>\n",
       "      <td>0.0</td>\n",
       "      <td>70</td>\n",
       "      <td>17</td>\n",
       "      <td>3.0</td>\n",
       "      <td>15</td>\n",
       "      <td>6.2</td>\n",
       "    </tr>\n",
       "    <tr>\n",
       "      <th>15474</th>\n",
       "      <td>Rory McIlroy PGA Tour</td>\n",
       "      <td>XONE</td>\n",
       "      <td>EA Tiburon</td>\n",
       "      <td>EA Sports</td>\n",
       "      <td>Traditional</td>\n",
       "      <td>Up to 4</td>\n",
       "      <td>E</td>\n",
       "      <td>NaN</td>\n",
       "      <td>Jul 14, 2015</td>\n",
       "      <td>/game/xbox-one/rory-mcilroy-pga-tour</td>\n",
       "      <td>4</td>\n",
       "      <td>20</td>\n",
       "      <td>2.0</td>\n",
       "      <td>60</td>\n",
       "      <td>9</td>\n",
       "      <td>4.0</td>\n",
       "      <td>34</td>\n",
       "      <td>4.2</td>\n",
       "    </tr>\n",
       "    <tr>\n",
       "      <th>17606</th>\n",
       "      <td>Everybody's Golf</td>\n",
       "      <td>PS4</td>\n",
       "      <td>SCEI, Clap Hanz</td>\n",
       "      <td>SCEA</td>\n",
       "      <td>Traditional</td>\n",
       "      <td>Up to 20</td>\n",
       "      <td>E</td>\n",
       "      <td>NaN</td>\n",
       "      <td>Aug 29, 2017</td>\n",
       "      <td>/game/playstation-4/everybodys-golf</td>\n",
       "      <td>36</td>\n",
       "      <td>12</td>\n",
       "      <td>0.0</td>\n",
       "      <td>78</td>\n",
       "      <td>21</td>\n",
       "      <td>12.0</td>\n",
       "      <td>6</td>\n",
       "      <td>7.7</td>\n",
       "    </tr>\n",
       "  </tbody>\n",
       "</table>\n",
       "</div>"
      ],
      "text/plain": [
       "                                       name platform  \\\n",
       "15665            Arcania: The Complete Tale      PS4   \n",
       "10514   Combat Mission: Battle for Normandy       PC   \n",
       "12316    Damage Inc.: Pacific Squadron WWII     X360   \n",
       "13837  IL-2 Sturmovik: Battle of Stalingrad       PC   \n",
       "13992                            The Sims 4       PC   \n",
       "13949                             Tropico 5     X360   \n",
       "13000                            Zoo Tycoon     XONE   \n",
       "13787                             Tropico 5       PC   \n",
       "17122            RollerCoaster Tycoon World       PC   \n",
       "14832                             Tropico 5      PS4   \n",
       "15951                         Atlas Reactor       PC   \n",
       "15450                 Rory McIlroy PGA Tour      PS4   \n",
       "13968                         The Golf Club       PC   \n",
       "15474                 Rory McIlroy PGA Tour     XONE   \n",
       "17606                      Everybody's Golf      PS4   \n",
       "\n",
       "                        developer                     publisher  \\\n",
       "15665     Nordic Games Publishing       Nordic Games Publishing   \n",
       "10514             Battlefront.com               Battlefront.com   \n",
       "12316                    Mad Catz                      Mad Catz   \n",
       "13837             1C Game Studios  Excalibur Publishing Limited   \n",
       "13992                       Maxis               Electronic Arts   \n",
       "13949  Haemimont, Haemimont Games                       Kalypso   \n",
       "13000       Frontier Developments        Microsoft Game Studios   \n",
       "13787  Haemimont, Haemimont Games                       Kalypso   \n",
       "17122           Nvizzio Creations                         Atari   \n",
       "14832  Haemimont, Haemimont Games                       Kalypso   \n",
       "15951                Trion Worlds                  Trion Worlds   \n",
       "15450                  EA Tiburon                     EA Sports   \n",
       "13968       HB Studios Multimedia         HB Studios Multimedia   \n",
       "15474                  EA Tiburon                     EA Sports   \n",
       "17606             SCEI, Clap Hanz                          SCEA   \n",
       "\n",
       "            genre(s)                players rating attribute  release_date  \\\n",
       "15665  Western-Style                    NaN      T       NaN  May 12, 2015   \n",
       "10514        Wargame                    NaN    NaN       NaN  May 17, 2011   \n",
       "12316           WWII                    NaN      T       NaN  Aug 28, 2012   \n",
       "13837            WWI                    NaN      T       NaN  Aug 14, 2014   \n",
       "13992   Virtual Life  No Online Multiplayer      T       NaN  Sep  2, 2014   \n",
       "13949         Tycoon                    NaN      T       NaN  Nov 11, 2014   \n",
       "13000         Tycoon               Up to 4       E       NaN  Nov 22, 2013   \n",
       "13787         Tycoon                    NaN      T       NaN  May 23, 2014   \n",
       "17122         Tycoon  No Online Multiplayer      E       NaN  Nov 16, 2016   \n",
       "14832         Tycoon               Up to 4       T       NaN  Apr 28, 2015   \n",
       "15951     Turn-Based     Online Multiplayer    NaN       NaN  Oct  4, 2016   \n",
       "15450    Traditional               Up to 8       E       NaN  Jul 14, 2015   \n",
       "13968    Traditional                    NaN      E       NaN  Aug 19, 2014   \n",
       "15474    Traditional               Up to 4       E       NaN  Jul 14, 2015   \n",
       "17606    Traditional              Up to 20       E       NaN  Aug 29, 2017   \n",
       "\n",
       "                                                  link  critic_positive  \\\n",
       "15665    /game/playstation-4/arcania-the-complete-tale                0   \n",
       "10514      /game/pc/combat-mission-battle-for-normandy                3   \n",
       "12316  /game/xbox-360/damage-inc-pacific-squadron-wwii                1   \n",
       "13837     /game/pc/il-2-sturmovik-battle-of-stalingrad                3   \n",
       "13992                              /game/pc/the-sims-4               31   \n",
       "13949                         /game/xbox-360/tropico-5                1   \n",
       "13000                        /game/xbox-one/zoo-tycoon               12   \n",
       "13787                               /game/pc/tropico-5               31   \n",
       "17122              /game/pc/rollercoaster-tycoon-world                0   \n",
       "14832                    /game/playstation-4/tropico-5               12   \n",
       "15951                           /game/pc/atlas-reactor               11   \n",
       "15450        /game/playstation-4/rory-mcilroy-pga-tour                5   \n",
       "13968                           /game/pc/the-golf-club                3   \n",
       "15474             /game/xbox-one/rory-mcilroy-pga-tour                4   \n",
       "17606              /game/playstation-4/everybodys-golf               36   \n",
       "\n",
       "       critic_neutral  critic_negative  metascore  user_positive  \\\n",
       "15665               2              NaN         42              2   \n",
       "10514               1              0.0         81             16   \n",
       "12316              12             11.0         49              0   \n",
       "13837               4              0.0         74             85   \n",
       "13992              41              2.0         70            189   \n",
       "13949               3              0.0         71              0   \n",
       "13000              32              NaN         68              7   \n",
       "13787              19              1.0         75             28   \n",
       "17122               2              5.0         43              4   \n",
       "14832               5              0.0         76             11   \n",
       "15951               1              0.0         81             13   \n",
       "15450              27              NaN         61              4   \n",
       "13968               8              0.0         70             17   \n",
       "15474              20              2.0         60              9   \n",
       "17606              12              0.0         78             21   \n",
       "\n",
       "       user_neutral  user_negative user_score  \n",
       "15665           4.0              4        4.8  \n",
       "10514           4.0              7        5.4  \n",
       "12316           0.0              1        5.5  \n",
       "13837          23.0             63        6.0  \n",
       "13992         146.0            496        4.1  \n",
       "13949           2.0              1        7.4  \n",
       "13000           9.0             10        3.1  \n",
       "13787          23.0             26        7.0  \n",
       "17122           1.0             20        2.1  \n",
       "14832           7.0              6        7.1  \n",
       "15951           1.0              2        7.5  \n",
       "15450          12.0             28        3.7  \n",
       "13968           3.0             15        6.2  \n",
       "15474           4.0             34        4.2  \n",
       "17606          12.0              6        7.7  "
      ]
     },
     "execution_count": 5,
     "metadata": {},
     "output_type": "execute_result"
    }
   ],
   "source": [
    "# Mostra na tela os gêneros em ordem decrescente\n",
    "df.sort_values('genre(s)', ascending=False, inplace=False).head(15) "
   ]
  },
  {
   "cell_type": "markdown",
   "id": "8a87d685-b6fb-4ae1-a73a-b2cb25385602",
   "metadata": {},
   "source": [
    "Agora que ordenamos a visualização do dataframe pelos gêneros mais populares, aplicaremos as modificações no dataset original:"
   ]
  },
  {
   "cell_type": "code",
   "execution_count": 6,
   "id": "fe9f057c-372b-43db-b184-2733ebc399a0",
   "metadata": {},
   "outputs": [],
   "source": [
    "# Altera o dataFrame original\n",
    "df.sort_values('genre(s)', ascending=True, inplace=True)"
   ]
  },
  {
   "cell_type": "markdown",
   "id": "d77bb031-30f8-403d-ae33-88c044bd2e1c",
   "metadata": {},
   "source": [
    "Com essa organização das informações é possível notar que algumas coisas saltam aos olhos. Podemos observar que existe uma diferenciação entre os valores 'Wargame', 'WWI' e 'WWII'. Entretanto, 'WWI' e 'WWII' pertencem a mesma categoria de 'Wargame'."
   ]
  },
  {
   "cell_type": "markdown",
   "id": "cda0dba8-47c6-4e5e-871d-64e7552f35fe",
   "metadata": {},
   "source": [
    "<h3> 5.  Limpando os Dados </h3>"
   ]
  },
  {
   "cell_type": "markdown",
   "id": "0d5344d0-ddd3-40c2-8717-dc37f5cd6d55",
   "metadata": {},
   "source": [
    "<h4> 5.1 Duplicadas </h4>"
   ]
  },
  {
   "cell_type": "markdown",
   "id": "9d6f5e76-0ec9-4fcb-a092-1137a9ed2712",
   "metadata": {},
   "source": [
    "Um passo importante durante a limpeza de um DataFrame é a remoção de linhas duplicadas"
   ]
  },
  {
   "cell_type": "code",
   "execution_count": 7,
   "id": "9426b3e6-a549-4ad6-8d17-2597459e27c1",
   "metadata": {},
   "outputs": [
    {
     "data": {
      "text/html": [
       "<div>\n",
       "<style scoped>\n",
       "    .dataframe tbody tr th:only-of-type {\n",
       "        vertical-align: middle;\n",
       "    }\n",
       "\n",
       "    .dataframe tbody tr th {\n",
       "        vertical-align: top;\n",
       "    }\n",
       "\n",
       "    .dataframe thead th {\n",
       "        text-align: right;\n",
       "    }\n",
       "</style>\n",
       "<table border=\"1\" class=\"dataframe\">\n",
       "  <thead>\n",
       "    <tr style=\"text-align: right;\">\n",
       "      <th></th>\n",
       "      <th>name</th>\n",
       "      <th>platform</th>\n",
       "      <th>developer</th>\n",
       "      <th>publisher</th>\n",
       "      <th>genre(s)</th>\n",
       "      <th>players</th>\n",
       "      <th>rating</th>\n",
       "      <th>attribute</th>\n",
       "      <th>release_date</th>\n",
       "      <th>link</th>\n",
       "      <th>critic_positive</th>\n",
       "      <th>critic_neutral</th>\n",
       "      <th>critic_negative</th>\n",
       "      <th>metascore</th>\n",
       "      <th>user_positive</th>\n",
       "      <th>user_neutral</th>\n",
       "      <th>user_negative</th>\n",
       "      <th>user_score</th>\n",
       "    </tr>\n",
       "  </thead>\n",
       "  <tbody>\n",
       "    <tr>\n",
       "      <th>8258</th>\n",
       "      <td>Bookworm</td>\n",
       "      <td>DS</td>\n",
       "      <td>PopCap</td>\n",
       "      <td>PopCap</td>\n",
       "      <td>Miscellaneous</td>\n",
       "      <td>NaN</td>\n",
       "      <td>E</td>\n",
       "      <td>NaN</td>\n",
       "      <td>Nov 30, 2009</td>\n",
       "      <td>/game/ds/bookworm</td>\n",
       "      <td>2</td>\n",
       "      <td>4</td>\n",
       "      <td>0.0</td>\n",
       "      <td>80</td>\n",
       "      <td>0</td>\n",
       "      <td>0.0</td>\n",
       "      <td>0</td>\n",
       "      <td>tbd</td>\n",
       "    </tr>\n",
       "    <tr>\n",
       "      <th>8260</th>\n",
       "      <td>Bookworm</td>\n",
       "      <td>DS</td>\n",
       "      <td>PopCap</td>\n",
       "      <td>PopCap</td>\n",
       "      <td>Miscellaneous</td>\n",
       "      <td>NaN</td>\n",
       "      <td>E</td>\n",
       "      <td>NaN</td>\n",
       "      <td>Nov 30, 2009</td>\n",
       "      <td>/game/ds/bookworm</td>\n",
       "      <td>2</td>\n",
       "      <td>4</td>\n",
       "      <td>0.0</td>\n",
       "      <td>71</td>\n",
       "      <td>0</td>\n",
       "      <td>0.0</td>\n",
       "      <td>0</td>\n",
       "      <td>tbd</td>\n",
       "    </tr>\n",
       "  </tbody>\n",
       "</table>\n",
       "</div>"
      ],
      "text/plain": [
       "          name platform developer publisher       genre(s) players rating  \\\n",
       "8258  Bookworm       DS    PopCap    PopCap  Miscellaneous     NaN      E   \n",
       "8260  Bookworm       DS    PopCap    PopCap  Miscellaneous     NaN      E   \n",
       "\n",
       "     attribute  release_date               link  critic_positive  \\\n",
       "8258       NaN  Nov 30, 2009  /game/ds/bookworm                2   \n",
       "8260       NaN  Nov 30, 2009  /game/ds/bookworm                2   \n",
       "\n",
       "      critic_neutral  critic_negative  metascore  user_positive  user_neutral  \\\n",
       "8258               4              0.0         80              0           0.0   \n",
       "8260               4              0.0         71              0           0.0   \n",
       "\n",
       "      user_negative user_score  \n",
       "8258              0        tbd  \n",
       "8260              0        tbd  "
      ]
     },
     "execution_count": 7,
     "metadata": {},
     "output_type": "execute_result"
    }
   ],
   "source": [
    "df[df.duplicated()]"
   ]
  },
  {
   "cell_type": "markdown",
   "id": "5727d812-95e0-46f0-b01a-8193b10704de",
   "metadata": {},
   "source": [
    "Após ter certeza sobre quais linhas estão duplicadas, é possível removê-las: "
   ]
  },
  {
   "cell_type": "code",
   "execution_count": 8,
   "id": "f5847ba6-adab-45bd-83d0-992ab05adc33",
   "metadata": {},
   "outputs": [],
   "source": [
    "df.drop_duplicates(inplace = True)"
   ]
  },
  {
   "cell_type": "markdown",
   "id": "21c7a827-5d20-40b5-8393-2c939e0db973",
   "metadata": {},
   "source": [
    "<h4>5.2  Removendo Colunas Desnecessárias </h4>"
   ]
  },
  {
   "cell_type": "markdown",
   "id": "e862e4e6-218c-4303-ae41-18d03cc74f5f",
   "metadata": {},
   "source": [
    "Existem algumas colunas em nosso dataFrame que possuem informações que não serão tão úteis durante a análise. É o caso da coluna 'link', que contém links para as páginas dos jogos, e da coluna 'attribute', que contém informações adicionais.\n",
    "A maneira heterogênea como são apresentados e a grande quantidade de dados dados faltantes, sobretudo na coluna 'attribute', impede que façamos agrupamentos e possam ser feitas comparações com as demais colunas."
   ]
  },
  {
   "cell_type": "code",
   "execution_count": 9,
   "id": "419fc5fb-4f1b-4a26-8971-5eb37c1056df",
   "metadata": {},
   "outputs": [],
   "source": [
    "# Removendo as colunas \"link\" e \"attribute\"\n",
    "df.drop(columns=['link', 'attribute'], inplace=True)"
   ]
  },
  {
   "cell_type": "markdown",
   "id": "09ae3925-3b05-48c2-b2fc-0e40f612fe14",
   "metadata": {},
   "source": [
    "<h4> 5.3 Limpando as Features </h4>"
   ]
  },
  {
   "cell_type": "markdown",
   "id": "f10587f8-1772-4ce0-9c0a-24505425f7b2",
   "metadata": {},
   "source": [
    "- Limpeza de Dados Categóricos"
   ]
  },
  {
   "cell_type": "code",
   "execution_count": 10,
   "id": "b9603aca-a8f1-467a-b017-c66b268ddf0a",
   "metadata": {},
   "outputs": [],
   "source": [
    "# limpando a coluna genre(s)"
   ]
  },
  {
   "cell_type": "markdown",
   "id": "14dc8a8b-c3bd-4b26-a42c-d24885b22118",
   "metadata": {},
   "source": [
    "Já que observamos erros anteriormente na coluna Genre(s), iniciaremos a limpeza das colunas por ela. Vamos renomear a coluna para 'genre' afim de evitar possíveis erros na hora de ultilizarmos algumas funções."
   ]
  },
  {
   "cell_type": "code",
   "execution_count": 10,
   "id": "92ea1484-39d0-4636-9339-af75a375970d",
   "metadata": {},
   "outputs": [],
   "source": [
    "# Renomeando a coluna genre(s)\n",
    "df.rename(columns={'genre(s)': 'genre'}, inplace = True)"
   ]
  },
  {
   "cell_type": "markdown",
   "id": "60aee71c-35a3-4b5f-9b92-5789b09698dc",
   "metadata": {},
   "source": [
    "Agora veremos os valores unicos existentes na coluna. Isso é particularmente útil para verificar os diferentes valores em um campo categórico."
   ]
  },
  {
   "cell_type": "code",
   "execution_count": 11,
   "id": "03894102-f00a-403b-91a8-5874807b83e4",
   "metadata": {},
   "outputs": [
    {
     "data": {
      "text/plain": [
       "array(['2D', '3D', '4X',\n",
       "       'AGORA EU SOU SOLTEIRA E NINGUEM VAI ME SEGURAR, DAQUELE JEEEEITO',\n",
       "       'Action', 'Action Adventure', 'Action RPG', 'Adventure',\n",
       "       'Alternative', 'Arcade', \"Beat-'Em-Up\", 'Board Games',\n",
       "       'Breeding/Constructing', 'Card Battle', 'City Building',\n",
       "       'Compilation', 'Console-style RPG', 'Dancing', 'Driving',\n",
       "       'Edutainment', 'Fantasy', 'Fighting', 'First-Person', 'Flight',\n",
       "       'Formula One', 'Futuristic', 'GT / Street', 'General', 'Historic',\n",
       "       'Horror', 'Ice Hockey', 'Japanese-Style', 'MOBA',\n",
       "       'Massively Multiplayer Online', 'Military', 'Miscellaneous',\n",
       "       'Modern', 'Music', 'Music Maker', 'Olympic Sports', 'Other',\n",
       "       'PC-style RPG', 'Party', 'Pinball', 'Platformer', 'Puzzle',\n",
       "       'Racing', 'Rail', 'Rally / Offroad', 'Real-Time', 'Role-Playing',\n",
       "       'Sci-Fi', 'Scrolling', 'Shooter', 'Sim', 'Simulation', 'Sports',\n",
       "       'Strategy', 'Street', 'Tactical', 'Third-Person', 'Traditional',\n",
       "       'Turn-Based', 'Tycoon', 'Virtual Life', 'WWI', 'WWII', 'Wargame',\n",
       "       'Western-Style'], dtype=object)"
      ]
     },
     "execution_count": 11,
     "metadata": {},
     "output_type": "execute_result"
    }
   ],
   "source": [
    "# verificando os valores da coluna genre\n",
    "df['genre'].unique()"
   ]
  },
  {
   "cell_type": "markdown",
   "id": "9f8c57f8-a4c2-4d13-bf0a-c2c35919677e",
   "metadata": {},
   "source": [
    " faremos então a substituição dos valores 'WWI' e 'WWII' por 'Wargame':"
   ]
  },
  {
   "cell_type": "code",
   "execution_count": 12,
   "id": "8a8d97d7-ee26-4b89-b1dc-e80a264443fc",
   "metadata": {},
   "outputs": [],
   "source": [
    "#Substituir WWI por Wargame:\n",
    "df[\"genre\"].replace(\"WWI\", \"Wargame\", inplace = True)\n",
    "\n",
    "#Substitui WWII por Wargame:\n",
    "df[\"genre\"].replace(\"WWII\", \"Wargame\", inplace = True)"
   ]
  },
  {
   "cell_type": "markdown",
   "id": "097110ed-4109-4c0e-8063-fc6a56610cfb",
   "metadata": {},
   "source": [
    "Há também na coluna, informações como 'AGORA EU SOU SOLTEIRA E NINGUEM VAI ME SEGURAR, DAQUELE JEEEEITO' e 'Sim' que precisam ser tratadas, seguiremos os seguintes passos:\n",
    "-   contar as ocorrências de 'AGORA EU SOU SOLTEIRA E NINGUEM VAI ME SEGURAR, DAQUELE JEEEEITO' na coluna gênero\n",
    "-  verificar qual a melhor maneira de tratar a informação 'AGORA EU SOU SOLTEIRA E NINGUEM VAI ME SEGURAR, DAQUELE JEEEEITO'\n",
    "- Substituir 'Sim' por 'Simulator' para corigir a diferenciação entre os valores e uniformiza-los"
   ]
  },
  {
   "cell_type": "code",
   "execution_count": 13,
   "id": "3c479fc6-c773-4157-b0aa-ee53c77986f3",
   "metadata": {},
   "outputs": [
    {
     "name": "stdout",
     "output_type": "stream",
     "text": [
      "False    20415\n",
      "True         5\n",
      "Name: genre, dtype: int64\n"
     ]
    }
   ],
   "source": [
    "# contando as ocorrências de \"AGORA EU SOU SOLTEIRA E NINGUEM VAI ME SEGURAR, DAQUELE JEEEEITO\" na coluna genre\n",
    "freq_solteira = df[\"genre\"].str.contains('AGORA EU SOU SOLTEIRA E NINGUEM VAI ME SEGURAR, DAQUELE JEEEEITO').value_counts()\n",
    "print(freq_solteira)"
   ]
  },
  {
   "cell_type": "markdown",
   "id": "ba11cee0-ef66-4485-93ab-61b78673f857",
   "metadata": {},
   "source": [
    "Como existe pouca ocorrência (apenas 5) de 'AGORA EU SOU SOULTEIRA E NINGUEM VAI ME SEGURAR, DAQUELE JEEEEITO' optamos por excluir as linhas, de modo que não impactará em nossa análise."
   ]
  },
  {
   "cell_type": "code",
   "execution_count": 14,
   "id": "6c5db097-47b5-4428-8a92-1cc447eb6608",
   "metadata": {},
   "outputs": [],
   "source": [
    "# Excluindo as linhas em que \"AGORA EU SOU SOLTEIRA E NINGUEM VAI ME SEGURAR, DAQUELE JEEEEITO\" aparece na coluna genre\n",
    "genre_solteira = df[df['genre'] == 'AGORA EU SOU SOLTEIRA E NINGUEM VAI ME SEGURAR, DAQUELE JEEEEITO'].index\n",
    "df.drop(genre_solteira, inplace=True)"
   ]
  },
  {
   "cell_type": "code",
   "execution_count": 15,
   "id": "49aa312e-9a17-4c3c-8768-df3cc3d53c74",
   "metadata": {},
   "outputs": [],
   "source": [
    "# Substituindo 'Sim' por 'Simulation'\n",
    "df[\"genre\"].replace(\"Sim\", \"Simulation\", inplace = True)"
   ]
  },
  {
   "cell_type": "code",
   "execution_count": 22,
   "id": "23997199-11b7-4e17-a1d8-b358ea3cc9bc",
   "metadata": {},
   "outputs": [],
   "source": [
    "# Limpando a Coluna Name"
   ]
  },
  {
   "cell_type": "code",
   "execution_count": 16,
   "id": "c95928bb-1fca-4c62-af04-0b977ab15527",
   "metadata": {},
   "outputs": [
    {
     "name": "stdout",
     "output_type": "stream",
     "text": [
      "name column unique values:\n",
      "0        Dragon Quest Heroes: The World Tree's Woe and ...\n",
      "1                                       Super Lucky's Tale\n",
      "2                                              Rad Rodgers\n",
      "3                                                 Deadpool\n",
      "4                      Sengoku Jidai: Shadow of the Shogun\n",
      "                               ...                        \n",
      "13239                                        Atlas Reactor\n",
      "13240                                            Tropico 5\n",
      "13241                           RollerCoaster Tycoon World\n",
      "13242                 IL-2 Sturmovik: Battle of Stalingrad\n",
      "13243                  Combat Mission: Battle for Normandy\n",
      "Length: 13244, dtype: object\n",
      "\n"
     ]
    }
   ],
   "source": [
    "print(\"name column unique values:\")\n",
    "print(pd.Series(df.name.unique()), end = \"\\n\\n\")"
   ]
  },
  {
   "cell_type": "markdown",
   "id": "a2897c68-fd7b-49b1-a7b3-8e13e721770f",
   "metadata": {},
   "source": [
    "As informações da coluna 'name' são consistentes, não precisamos fazer alterações."
   ]
  },
  {
   "cell_type": "code",
   "execution_count": 50,
   "id": "1ee97f28-11cf-4a1f-beb9-5982abf63558",
   "metadata": {},
   "outputs": [],
   "source": [
    "# Limpando a Coluna Platform"
   ]
  },
  {
   "cell_type": "code",
   "execution_count": 17,
   "id": "66ae4b5b-5882-43a5-a97f-65a8a5d9123d",
   "metadata": {},
   "outputs": [
    {
     "data": {
      "text/plain": [
       "PC                                 4372\n",
       "X360                               1826\n",
       "PS4                                1818\n",
       "PS2                                1528\n",
       "PS3                                1476\n",
       "XONE                               1310\n",
       "pc                                 1060\n",
       "DS                                  986\n",
       "WII                                 872\n",
       "Switch                              812\n",
       "XBOX                                664\n",
       "PSP                                 607\n",
       "GBA                                 597\n",
       "3DS                                 539\n",
       "GC                                  512\n",
       "VITA                                408\n",
       "WIIU                                319\n",
       "PS                                  256\n",
       "xBoX                                173\n",
       "DC                                  143\n",
       "N64                                  89\n",
       "quando vai ser o churrasturing?      48\n",
       "Name: platform, dtype: int64"
      ]
     },
     "execution_count": 17,
     "metadata": {},
     "output_type": "execute_result"
    }
   ],
   "source": [
    "# Verificando a ocorrência dos valores na coluna platform\n",
    "df[\"platform\"].value_counts()"
   ]
  },
  {
   "cell_type": "markdown",
   "id": "755fc032-ec94-41dc-8fba-46ea110a72a5",
   "metadata": {},
   "source": [
    " Há 48 linhas em que'quando vai ser o churrasturing' aparece no dataFrame. Como não se encaixam na coluna, e são poucas as ocorrências, decidimos substitui-las pela moda.\n",
    "Além disso, há outras informações que precisam ser reparadas, é possível notar que há uma diferenciação entre os valores 'xBOX' e 'XBOX' e também 'pc'e 'PC' que rementem à mesma informação.\n",
    "\n",
    "Substituiremos para uniformizar os dados:"
   ]
  },
  {
   "cell_type": "code",
   "execution_count": 18,
   "id": "03d3f223-5b30-45cb-9988-395683773910",
   "metadata": {},
   "outputs": [],
   "source": [
    "# Substituindo 'quando vai ser o churrasturing' pela moda\n",
    "df['platform'].replace('quando vai ser o churrasturing?', df['platform'].mode()[0], inplace=True)\n",
    "\n",
    "# Substituindo 'xBOX' por 'XBOX'\n",
    "df[\"platform\"].replace(\"xBOX\", \"XBOX\", inplace = True)\n",
    "\n",
    "# Substituindo 'pc' por 'PC'\n",
    "df[\"platform\"].replace(\"pc\", \"PC\", inplace = True)"
   ]
  },
  {
   "cell_type": "code",
   "execution_count": 24,
   "id": "42ee3836-71f8-4507-b401-1f3c22e932fb",
   "metadata": {},
   "outputs": [],
   "source": [
    "# Limpando a Coluna Developer"
   ]
  },
  {
   "cell_type": "code",
   "execution_count": 19,
   "id": "09d3174d-18bf-40de-b000-48c5e71d690a",
   "metadata": {},
   "outputs": [
    {
     "name": "stdout",
     "output_type": "stream",
     "text": [
      "developer column unique values:\n",
      "0                Omega Force\n",
      "1              Playful Corp.\n",
      "2       Slipgate Studios LLC\n",
      "3          High Moon Studios\n",
      "4            Byzantine Games\n",
      "                ...         \n",
      "4737      FIX Korea, Co. LTD\n",
      "4738    Boss Key Productions\n",
      "4739         SCEI, Clap Hanz\n",
      "4740         1C Game Studios\n",
      "4741         Battlefront.com\n",
      "Length: 4742, dtype: object\n",
      "\n"
     ]
    }
   ],
   "source": [
    "# Verificando os valores existentes na coluna developer\n",
    "print(\"developer column unique values:\")\n",
    "print(pd.Series(df.developer.unique()), end = \"\\n\\n\")"
   ]
  },
  {
   "cell_type": "markdown",
   "id": "a8c0c866-6aaa-4629-903c-69cde8c7d272",
   "metadata": {},
   "source": [
    "Não verificamos nenhuma informação incorreta na coluna 'developer'. Entretanto, há dados faltantes que corrigiremos posteriormente."
   ]
  },
  {
   "cell_type": "code",
   "execution_count": 26,
   "id": "f181fd17-54d1-4390-96e8-310b85f9ed4d",
   "metadata": {},
   "outputs": [],
   "source": [
    "# Limpando a Coluna Publisher"
   ]
  },
  {
   "cell_type": "code",
   "execution_count": 20,
   "id": "4c3af594-b54d-4d3d-bb3b-66c4a7ae4edb",
   "metadata": {},
   "outputs": [
    {
     "name": "stdout",
     "output_type": "stream",
     "text": [
      " column publisher unique values:\n",
      "0                    Square Enix\n",
      "1         Microsoft Game Studios\n",
      "2                  Playful Corp.\n",
      "3                     THQ Nordic\n",
      "4                     Activision\n",
      "                  ...           \n",
      "2226    Neptune Interactive Inc.\n",
      "2227              Skyshine Games\n",
      "2228          Nine Tales Digital\n",
      "2229              Ludeon Studios\n",
      "2230                    OGPlanet\n",
      "Length: 2231, dtype: object\n",
      "\n"
     ]
    }
   ],
   "source": [
    "# Verificando os valores existentes na coluna publisher\n",
    "print(\" column publisher unique values:\")\n",
    "print(pd.Series(df.publisher.unique()), end = \"\\n\\n\")"
   ]
  },
  {
   "cell_type": "markdown",
   "id": "35d6f1ea-86a0-4625-9cb5-f863ccbbc0f2",
   "metadata": {},
   "source": [
    "No caso da coluna 'publisher' também há dezenas de dados faltantes que substituiremos posteriormente. Não há nenhuma informação inconsistente. "
   ]
  },
  {
   "cell_type": "code",
   "execution_count": 28,
   "id": "ac3f8cc9-8872-40c6-bc9c-c8ca232c5edd",
   "metadata": {},
   "outputs": [],
   "source": [
    "# Limpando a Coluna Players"
   ]
  },
  {
   "cell_type": "code",
   "execution_count": 21,
   "id": "184d405c-dfab-43bc-9973-8a2f46563956",
   "metadata": {},
   "outputs": [
    {
     "data": {
      "text/plain": [
       "No Online Multiplayer    3884\n",
       "1 Player                 2590\n",
       "1-2                      1488\n",
       "1-4                      1169\n",
       "2  Online                 420\n",
       "Up to 4                   388\n",
       "4  Online                 364\n",
       "Online Multiplayer        331\n",
       "1-8                       330\n",
       "2                         303\n",
       "8  Online                 262\n",
       "Up to 8                   235\n",
       "Massively Multiplayer     146\n",
       "16  Online                136\n",
       "Up to 6                   108\n",
       "1-16                       99\n",
       "Up to 16                   89\n",
       "Up to 12                   89\n",
       "6  Online                  86\n",
       "1-6                        73\n",
       "Up to 10                   65\n",
       "1-32                       50\n",
       "32  Online                 47\n",
       "10  Online                 42\n",
       "12  Online                 41\n",
       "1-3                        33\n",
       "24  Online                 32\n",
       "Up to 18                   28\n",
       "Up to 22                   24\n",
       "1-5                        23\n",
       "1-12                       18\n",
       "Up to 64                   18\n",
       "Up to 24                   18\n",
       "Up to 3                    17\n",
       "1-10                       15\n",
       "Up to 32                   15\n",
       "Up to 20                   14\n",
       "14  Online                 13\n",
       "Up to 5                    13\n",
       "Up to 40                   12\n",
       "5  Online                   8\n",
       "1-64                        8\n",
       "Up to more than 64          8\n",
       "64  Online                  8\n",
       "3  Online                   6\n",
       "44  Online                  5\n",
       "64+  Online                 5\n",
       "Up to 30                    4\n",
       "Up to 9                     2\n",
       "Up to 60                    2\n",
       "64+                         2\n",
       "Up to 14                    2\n",
       "1-24                        1\n",
       "Name: players, dtype: int64"
      ]
     },
     "execution_count": 21,
     "metadata": {},
     "output_type": "execute_result"
    }
   ],
   "source": [
    "# Verificando os valores existentes na coluna players\n",
    "df[\"players\"].value_counts()"
   ]
  },
  {
   "cell_type": "markdown",
   "id": "782de131-7e52-450e-9093-2e8175242e64",
   "metadata": {},
   "source": [
    "Verificamos que há alguns problemas na padronização dos dados da coluna \"Player\", os quais apresentam informações semelhantes, ora em números, ora em caracteres alfanuméricos. Portanto, iremos padronizar os dados dessa coluna, além de remover os espaços em branco adicionais."
   ]
  },
  {
   "cell_type": "code",
   "execution_count": 22,
   "id": "30d0fc33-0541-41f0-b0d6-c7ad21f7192a",
   "metadata": {},
   "outputs": [],
   "source": [
    "# Padrozinando as informações da coluna players\n",
    "df[\"players\"] = df[\"players\"].str.strip()\n",
    "df[\"players\"].replace({\"1-4\":\"Up to 4\", \"1-2\":\"Up to 2\", \"1-16\":\"Up to 16\", \"1-6\":\"Up to 6\", \"1-8\": \"Up to 8\", \"1-5\": \"Up to 5\", \"1-32\":\"Up to 32\", \"1-10\":\"Up to 10\",\"1-3\":\"Up to 3\", \"1-12\": \"Up to 12\", \"1-64\":\"Up to 64\", \"1-24\": \"Up to 24\"}, inplace=True)"
   ]
  },
  {
   "cell_type": "code",
   "execution_count": 30,
   "id": "b6969a93-f2fe-4a88-8ee7-bbdee15cf72e",
   "metadata": {},
   "outputs": [],
   "source": [
    "# Limpando a Coluna Rating"
   ]
  },
  {
   "cell_type": "code",
   "execution_count": 23,
   "id": "42ddcd74-b1ab-4d06-88a8-93533ac5d952",
   "metadata": {},
   "outputs": [
    {
     "name": "stdout",
     "output_type": "stream",
     "text": [
      "rating column unique values:\n",
      "0              T\n",
      "1              E\n",
      "2              M\n",
      "3            NaN\n",
      "4           E10+\n",
      "5    aceitas pix\n",
      "6             RP\n",
      "7             AO\n",
      "8            K-A\n",
      "9             EC\n",
      "dtype: object\n",
      "\n"
     ]
    }
   ],
   "source": [
    "# Verificando os valores existentes na coluna rating\n",
    "print(\"rating column unique values:\")\n",
    "print(pd.Series(df.rating.unique()), end = \"\\n\\n\")"
   ]
  },
  {
   "cell_type": "markdown",
   "id": "d751ee27-b25a-4ce7-8093-b5656db07a15",
   "metadata": {},
   "source": [
    "É possível notar o valor 'aceitas pix' que não se encaixa na coluna rating. Vamos verificar sua ocorrência:"
   ]
  },
  {
   "cell_type": "code",
   "execution_count": 24,
   "id": "e44564cf-4180-49db-af4f-1f9c537a220b",
   "metadata": {},
   "outputs": [
    {
     "name": "stdout",
     "output_type": "stream",
     "text": [
      "False    18094\n",
      "True        37\n",
      "Name: rating, dtype: int64\n"
     ]
    }
   ],
   "source": [
    "freq_pix = df['rating'].str.contains('aceitas pix').value_counts()\n",
    "print(freq_pix)"
   ]
  },
  {
   "cell_type": "markdown",
   "id": "289ada35-152c-4ef7-8be5-9a5ee352c8f4",
   "metadata": {},
   "source": [
    "Como existe pouca ocorrência (apenas 37) de 'aceitas pix' optamos por excluir as linhas, de modo que não impactará em nossa análise."
   ]
  },
  {
   "cell_type": "code",
   "execution_count": 25,
   "id": "027b79b2-f7e9-4f50-bab6-cfc6106fd0ec",
   "metadata": {},
   "outputs": [],
   "source": [
    "# Excluindo as linhas em que \"aceitas pix\" aparece na coluna rating\n",
    "rating_pix = df[df['rating'] == 'aceitas pix'].index\n",
    "df.drop(rating_pix, inplace=True)"
   ]
  },
  {
   "cell_type": "code",
   "execution_count": 32,
   "id": "11ade709-9e55-44c3-b79d-a5f723952f85",
   "metadata": {},
   "outputs": [],
   "source": [
    "# Limpando a Coluna Release_date"
   ]
  },
  {
   "cell_type": "code",
   "execution_count": 26,
   "id": "41e48dbb-1d84-406a-9555-6c500c8b5ad1",
   "metadata": {},
   "outputs": [
    {
     "name": "stdout",
     "output_type": "stream",
     "text": [
      "release_date column unique values:\n",
      "0       Oct 13, 2015\n",
      "1       Nov  7, 2017\n",
      "2       Feb 21, 2018\n",
      "3       Jun 25, 2013\n",
      "4       Jun 24, 2013\n",
      "            ...     \n",
      "4311    Nov 15, 2015\n",
      "4312    Dec 10, 2010\n",
      "4313    Jul 14, 2005\n",
      "4314    Apr  7, 2006\n",
      "4315    Jul 16, 2002\n",
      "Length: 4316, dtype: object\n",
      "\n"
     ]
    }
   ],
   "source": [
    "print(\"release_date column unique values:\")\n",
    "print(pd.Series(df.release_date.unique()), end = \"\\n\\n\")"
   ]
  },
  {
   "cell_type": "markdown",
   "id": "71d8b681-886d-473c-b6ca-1d0eaac151c5",
   "metadata": {},
   "source": [
    "Pensando em uma análise de dados ao longo dos anos, decidiamos manter apenas as informações referentes ao ano de lançamento dos jogos."
   ]
  },
  {
   "cell_type": "code",
   "execution_count": 27,
   "id": "b5469721-d75d-458b-a3c2-b1ef679ccfc6",
   "metadata": {},
   "outputs": [
    {
     "data": {
      "text/plain": [
       "14798   2015-10-13\n",
       "18391   2017-11-07\n",
       "18509   2017-11-07\n",
       "19901   2018-02-21\n",
       "13179   2013-06-25\n",
       "           ...    \n",
       "13992   2014-09-02\n",
       "13837   2014-08-14\n",
       "12316   2012-08-28\n",
       "10514   2011-05-17\n",
       "15665   2015-05-12\n",
       "Name: release_date, Length: 20378, dtype: datetime64[ns]"
      ]
     },
     "execution_count": 27,
     "metadata": {},
     "output_type": "execute_result"
    }
   ],
   "source": [
    "# transformaando os dados da coluna 'release_date' em objetos do tipo datetime\n",
    "df['release_date'] =  pd.to_datetime(df['release_date'], infer_datetime_format=True)\n",
    "df['release_date']"
   ]
  },
  {
   "cell_type": "code",
   "execution_count": 28,
   "id": "c025d709-729a-43c0-b180-20993d18be6a",
   "metadata": {},
   "outputs": [
    {
     "data": {
      "text/plain": [
       "14798    2015\n",
       "18391    2017\n",
       "18509    2017\n",
       "19901    2018\n",
       "13179    2013\n",
       "         ... \n",
       "13992    2014\n",
       "13837    2014\n",
       "12316    2012\n",
       "10514    2011\n",
       "15665    2015\n",
       "Name: release_date, Length: 20378, dtype: int64"
      ]
     },
     "execution_count": 28,
     "metadata": {},
     "output_type": "execute_result"
    }
   ],
   "source": [
    "# convertendo a data completa em ano\n",
    "df['release_date'] = pd.DatetimeIndex(df['release_date']).year\n",
    "df['release_date']"
   ]
  },
  {
   "cell_type": "markdown",
   "id": "ac3e00c1-0b35-4ef8-adde-86389e8bbacc",
   "metadata": {
    "tags": []
   },
   "source": [
    "- Limpeza de Dados Numéricos"
   ]
  },
  {
   "cell_type": "code",
   "execution_count": 29,
   "id": "052d133a-f92b-4507-9301-942d23098d40",
   "metadata": {},
   "outputs": [
    {
     "data": {
      "text/html": [
       "<div>\n",
       "<style scoped>\n",
       "    .dataframe tbody tr th:only-of-type {\n",
       "        vertical-align: middle;\n",
       "    }\n",
       "\n",
       "    .dataframe tbody tr th {\n",
       "        vertical-align: top;\n",
       "    }\n",
       "\n",
       "    .dataframe thead th {\n",
       "        text-align: right;\n",
       "    }\n",
       "</style>\n",
       "<table border=\"1\" class=\"dataframe\">\n",
       "  <thead>\n",
       "    <tr style=\"text-align: right;\">\n",
       "      <th></th>\n",
       "      <th>release_date</th>\n",
       "      <th>critic_positive</th>\n",
       "      <th>critic_neutral</th>\n",
       "      <th>critic_negative</th>\n",
       "      <th>metascore</th>\n",
       "      <th>user_positive</th>\n",
       "      <th>user_neutral</th>\n",
       "      <th>user_negative</th>\n",
       "    </tr>\n",
       "  </thead>\n",
       "  <tbody>\n",
       "    <tr>\n",
       "      <th>count</th>\n",
       "      <td>20378.000000</td>\n",
       "      <td>20378.000000</td>\n",
       "      <td>20378.000000</td>\n",
       "      <td>19046.000000</td>\n",
       "      <td>20378.000000</td>\n",
       "      <td>20378.000000</td>\n",
       "      <td>20366.000000</td>\n",
       "      <td>20378.000000</td>\n",
       "    </tr>\n",
       "    <tr>\n",
       "      <th>mean</th>\n",
       "      <td>2010.183777</td>\n",
       "      <td>10.791442</td>\n",
       "      <td>7.238542</td>\n",
       "      <td>1.527302</td>\n",
       "      <td>68.815389</td>\n",
       "      <td>16.838846</td>\n",
       "      <td>4.601885</td>\n",
       "      <td>6.391844</td>\n",
       "    </tr>\n",
       "    <tr>\n",
       "      <th>std</th>\n",
       "      <td>5.451382</td>\n",
       "      <td>14.977832</td>\n",
       "      <td>7.241227</td>\n",
       "      <td>3.182118</td>\n",
       "      <td>13.249979</td>\n",
       "      <td>71.857536</td>\n",
       "      <td>16.337891</td>\n",
       "      <td>51.931734</td>\n",
       "    </tr>\n",
       "    <tr>\n",
       "      <th>min</th>\n",
       "      <td>1995.000000</td>\n",
       "      <td>0.000000</td>\n",
       "      <td>0.000000</td>\n",
       "      <td>0.000000</td>\n",
       "      <td>8.000000</td>\n",
       "      <td>0.000000</td>\n",
       "      <td>0.000000</td>\n",
       "      <td>0.000000</td>\n",
       "    </tr>\n",
       "    <tr>\n",
       "      <th>25%</th>\n",
       "      <td>2006.000000</td>\n",
       "      <td>1.000000</td>\n",
       "      <td>2.000000</td>\n",
       "      <td>0.000000</td>\n",
       "      <td>61.000000</td>\n",
       "      <td>1.000000</td>\n",
       "      <td>0.000000</td>\n",
       "      <td>0.000000</td>\n",
       "    </tr>\n",
       "    <tr>\n",
       "      <th>50%</th>\n",
       "      <td>2010.000000</td>\n",
       "      <td>5.000000</td>\n",
       "      <td>5.000000</td>\n",
       "      <td>0.000000</td>\n",
       "      <td>71.000000</td>\n",
       "      <td>3.000000</td>\n",
       "      <td>1.000000</td>\n",
       "      <td>1.000000</td>\n",
       "    </tr>\n",
       "    <tr>\n",
       "      <th>75%</th>\n",
       "      <td>2015.000000</td>\n",
       "      <td>14.000000</td>\n",
       "      <td>10.000000</td>\n",
       "      <td>2.000000</td>\n",
       "      <td>78.000000</td>\n",
       "      <td>10.000000</td>\n",
       "      <td>3.000000</td>\n",
       "      <td>3.000000</td>\n",
       "    </tr>\n",
       "    <tr>\n",
       "      <th>max</th>\n",
       "      <td>2018.000000</td>\n",
       "      <td>118.000000</td>\n",
       "      <td>60.000000</td>\n",
       "      <td>51.000000</td>\n",
       "      <td>99.000000</td>\n",
       "      <td>3029.000000</td>\n",
       "      <td>507.000000</td>\n",
       "      <td>3001.000000</td>\n",
       "    </tr>\n",
       "  </tbody>\n",
       "</table>\n",
       "</div>"
      ],
      "text/plain": [
       "       release_date  critic_positive  critic_neutral  critic_negative  \\\n",
       "count  20378.000000     20378.000000    20378.000000     19046.000000   \n",
       "mean    2010.183777        10.791442        7.238542         1.527302   \n",
       "std        5.451382        14.977832        7.241227         3.182118   \n",
       "min     1995.000000         0.000000        0.000000         0.000000   \n",
       "25%     2006.000000         1.000000        2.000000         0.000000   \n",
       "50%     2010.000000         5.000000        5.000000         0.000000   \n",
       "75%     2015.000000        14.000000       10.000000         2.000000   \n",
       "max     2018.000000       118.000000       60.000000        51.000000   \n",
       "\n",
       "          metascore  user_positive  user_neutral  user_negative  \n",
       "count  20378.000000   20378.000000  20366.000000   20378.000000  \n",
       "mean      68.815389      16.838846      4.601885       6.391844  \n",
       "std       13.249979      71.857536     16.337891      51.931734  \n",
       "min        8.000000       0.000000      0.000000       0.000000  \n",
       "25%       61.000000       1.000000      0.000000       0.000000  \n",
       "50%       71.000000       3.000000      1.000000       1.000000  \n",
       "75%       78.000000      10.000000      3.000000       3.000000  \n",
       "max       99.000000    3029.000000    507.000000    3001.000000  "
      ]
     },
     "execution_count": 29,
     "metadata": {},
     "output_type": "execute_result"
    }
   ],
   "source": [
    "df.describe()"
   ]
  },
  {
   "cell_type": "markdown",
   "id": "402ecbe9-4c5f-4511-8477-0f38c85a45a0",
   "metadata": {},
   "source": [
    "Podemos observar que por ter sido registrado como 'objective' a coluna 'user_score' não aparece na função `describe()`. Posteriormente iremos ajustar seu datatype."
   ]
  },
  {
   "cell_type": "code",
   "execution_count": 34,
   "id": "6608e9bd-e547-4f46-984c-8c02911d368e",
   "metadata": {},
   "outputs": [],
   "source": [
    "# Limpando a Coluna Critic_positive"
   ]
  },
  {
   "cell_type": "code",
   "execution_count": 30,
   "id": "a792ced0-c0ed-4fa7-87f0-d0ad90c1c307",
   "metadata": {},
   "outputs": [
    {
     "data": {
      "text/plain": [
       "array([ 59,   8,   1,   4,   5,  10,   0,   3,  35,  50,  75,  18,  14,\n",
       "        66,  53,  49,  52,  54,  28,  51,  67,  73,  25,  60,  79,  22,\n",
       "        38,  27,  41,  16,  39,  63,  56,   6,  13,  43,  17,  31,   9,\n",
       "        37,  21,  33,  26,  65,  82,   2,  81,  84,  94,  48,  12,  29,\n",
       "        15,  23,  24,  11,  32,  20,  34,  36,   7,  46,  19,  30,  40,\n",
       "        42,  45,  47,  57,  70,  62,  55,  64,  58,  72,  83,  68,  92,\n",
       "        77,  74,  85,  80,  90,  69,  76,  61,  88,  44,  96,  93,  71,\n",
       "       100,  78, 113,  89,  98,  87, 101,  86, 110,  97, 118, 106, 105,\n",
       "        99, 111], dtype=int64)"
      ]
     },
     "execution_count": 30,
     "metadata": {},
     "output_type": "execute_result"
    }
   ],
   "source": [
    "# Verificando os valores da coluna critic_positive\n",
    "df['critic_positive'].unique()"
   ]
  },
  {
   "cell_type": "markdown",
   "id": "0b232a20-d5e2-4334-b951-a0d9cfde7989",
   "metadata": {},
   "source": [
    "Não há nenhum valor inconsistente."
   ]
  },
  {
   "cell_type": "code",
   "execution_count": 35,
   "id": "2258be4e-7653-442a-a1b8-3ef312a0ee5d",
   "metadata": {},
   "outputs": [],
   "source": [
    "# Limpando a  Coluna Critic_neutral"
   ]
  },
  {
   "cell_type": "code",
   "execution_count": 31,
   "id": "83bc445e-55ae-44e1-a0b2-3a5083920540",
   "metadata": {},
   "outputs": [
    {
     "data": {
      "text/plain": [
       "array([14, 41,  4,  3, 21, 37, 15,  1,  8,  2,  6, 10, 12,  0, 16,  9, 11,\n",
       "        5, 30, 13, 17,  7, 18, 20, 25, 19, 29, 40, 22, 27, 26, 23, 39, 24,\n",
       "       47, 42, 38, 32, 31, 28, 45, 34, 49, 58, 35, 36, 44, 43, 33, 48, 53,\n",
       "       54, 51, 50, 46, 60, 55], dtype=int64)"
      ]
     },
     "execution_count": 31,
     "metadata": {},
     "output_type": "execute_result"
    }
   ],
   "source": [
    "# Verificando os valores da coluna critic_neutral\n",
    "df['critic_neutral'].unique()"
   ]
  },
  {
   "cell_type": "markdown",
   "id": "d025feca-23c1-4a4c-a4b3-8021a7e33d9e",
   "metadata": {},
   "source": [
    "Não há nenhum valor inconsistente."
   ]
  },
  {
   "cell_type": "code",
   "execution_count": 36,
   "id": "b130dbdb-0703-41c1-9244-cb9c3ecea767",
   "metadata": {},
   "outputs": [],
   "source": [
    "# Limpando a Coluna Critic_negative"
   ]
  },
  {
   "cell_type": "code",
   "execution_count": 32,
   "id": "b11c5877-4a8c-44d3-a9d9-1f5e0b259edd",
   "metadata": {},
   "outputs": [
    {
     "data": {
      "text/plain": [
       "array([nan,  2.,  0.,  1.,  3., 12., 19., 11.,  4.,  6., 18., 14., 21.,\n",
       "       20.,  5., 26., 13., 38.,  9., 15.,  8., 33., 31., 23., 25., 24.,\n",
       "        7., 10., 32., 34., 27., 17., 22., 16., 30., 43., 28., 36., 51.,\n",
       "       39.])"
      ]
     },
     "execution_count": 32,
     "metadata": {},
     "output_type": "execute_result"
    }
   ],
   "source": [
    "# Verificando os valores da coluna critic_negative\n",
    "df['critic_negative'].unique()"
   ]
  },
  {
   "cell_type": "markdown",
   "id": "94976ce6-b348-4e14-8299-2b0ba7c91b7c",
   "metadata": {},
   "source": [
    "Não há nenhuma informação destoante, entranto, posteriormente vamos mudar o datatype da coluna de float para int."
   ]
  },
  {
   "cell_type": "code",
   "execution_count": 37,
   "id": "6b134dae-48dd-434b-869f-c546e5188fc5",
   "metadata": {},
   "outputs": [],
   "source": [
    "# Limpando a Coluna Metascore"
   ]
  },
  {
   "cell_type": "code",
   "execution_count": 33,
   "id": "e021ef8d-0a72-4a5e-bbc8-27072c096d8e",
   "metadata": {},
   "outputs": [
    {
     "data": {
      "text/plain": [
       "array([77, 64, 59, 67, 61, 62, 63, 85, 66, 84, 65, 86, 89, 88, 87, 83, 81,\n",
       "       80, 90, 82, 49, 48, 47, 46, 45, 50, 54, 53, 52, 51, 44, 43, 36, 34,\n",
       "       33, 32, 28, 95, 92, 91, 37, 38, 41, 39, 79, 71, 70, 72, 74, 73, 68,\n",
       "       69, 78, 76, 75, 55, 60, 58, 57, 56, 94, 93, 22, 26, 27, 40, 35, 42,\n",
       "       31, 30, 29, 20, 19, 23, 21, 97, 96, 24, 25, 18, 15, 17, 98, 11, 99,\n",
       "       14,  8, 16, 13, 12], dtype=int64)"
      ]
     },
     "execution_count": 33,
     "metadata": {},
     "output_type": "execute_result"
    }
   ],
   "source": [
    "# Verificando os valores da coluna metascore\n",
    "df['metascore'].unique()"
   ]
  },
  {
   "cell_type": "markdown",
   "id": "7db3054c-ec9c-4cef-a3e9-8177d91ecc6c",
   "metadata": {},
   "source": [
    " Considerando que a coluna diz respeito a média do score da crítica, ela deve ter valores ser composta de números de 0 a 100. Vamos então checar se existe algum número distoante com as funções max e min:"
   ]
  },
  {
   "cell_type": "code",
   "execution_count": 34,
   "id": "f94af181-6b77-4ceb-a479-ec4c50e2845c",
   "metadata": {},
   "outputs": [
    {
     "data": {
      "text/plain": [
       "True"
      ]
     },
     "execution_count": 34,
     "metadata": {},
     "output_type": "execute_result"
    }
   ],
   "source": [
    "# Checando valores com as funções max e min\n",
    "df['metascore'].max() <= 100 and df['metascore'].min() >= 0"
   ]
  },
  {
   "cell_type": "markdown",
   "id": "7a482dfe-f083-4346-b7f3-2706c327ddd6",
   "metadata": {},
   "source": [
    "Tudo certo com os valores da coluna metascore."
   ]
  },
  {
   "cell_type": "code",
   "execution_count": 38,
   "id": "40a491b0-a045-4c38-a5e1-0fc1fcf6d5cc",
   "metadata": {},
   "outputs": [],
   "source": [
    "# Limpando a Coluna User_positive"
   ]
  },
  {
   "cell_type": "code",
   "execution_count": 35,
   "id": "a6b93b0f-e0af-4c7e-a44e-53f4d470b172",
   "metadata": {},
   "outputs": [
    {
     "data": {
      "text/plain": [
       "array([  21,   34,   10,    1,   20,   49,   78,    0,  465,   76,   27,\n",
       "          5,    6,  102,  594,    9,   18,   29,  202,    4,  120,  195,\n",
       "         83,   43,   23,   22,   14,  125, 1069,  104,  158, 1306,  196,\n",
       "          8,  708,  130,   50,  305,    3,  205,  111,   12,   93,  103,\n",
       "         19,   56,   24,    2,   55,    7,  505,  116,   28,   15,   13,\n",
       "         17,  134,  527,  162,   16,  259, 1713,  208,  132,  338,   42,\n",
       "         46,   33,   38,  135,   59,  167,   11,   84,   69,   82,  128,\n",
       "         98,  114,   35,  209,  351,   45,   80,  174,   62,   67,   36,\n",
       "         47,  143,   26,   30,   58,   51,   90,  141,  186,   54,  126,\n",
       "        281,   86,  256,  124,   52,  105,  223,   57,   73,   53,  101,\n",
       "         39,   71,   25,   81,   61,   66,   37,   40,  133,   31,  171,\n",
       "        193,  304, 1117,  333,   44,  293,   85,  344,  122,   68,  368,\n",
       "         41,   32,   64,   48,  222,  189,  138,  178,   92,  224,   99,\n",
       "        146,  173,  217,  323,  151,  243,  176,  185,  411,  476,   60,\n",
       "        172,   63,  425,  119,  136,  307,  112,  177,  480,  165,  428,\n",
       "         79,   72,   74,  608,  494,  203,  229,  550,  295,  669,  375,\n",
       "       1191,  289,  809,  107,  127,  372,  359,  329,  475,  218,  142,\n",
       "         70,  108,  335,  184,  258,  194,  367,   91,   77,  239,  589,\n",
       "        154,  166,  180, 1068,   65,  118,  226,   88,  147,  207,  110,\n",
       "        624,  113,  191,  152,  242,  129,   94,  282,  117,  157,  413,\n",
       "         97,  213,  233,   87,  168,  270,  230,  149,  210,  115,  431,\n",
       "        159,  373,  415,  234,  419,   75,  267,  317,  502,  512,  139,\n",
       "       1257,  244,  382, 1758,  220,  137,  106,  260,  155,  309,  204,\n",
       "        198,  160,  144,  556,  248,   95,  145,  225,  163,  214,  481,\n",
       "        197,  420,  342,  632,  833,  188,  219,  361,  169,  109,  161,\n",
       "        200,  442,  179,  237,  330,  121,  153,  206,  393, 1065,  212,\n",
       "        400,  630,  684,  249,  939,  403, 1753,  150,  170, 2760,  377,\n",
       "        182,  385,   89,  402,  245,  918, 3029,  286,  671,  216,  215,\n",
       "        872,  881,  238,  156,  232,  294, 1377,  278, 1180,  443,  227,\n",
       "        331,  438,  131,  339,  386,  187,  284, 1368,  350,  401,  275,\n",
       "        391,  531, 1788,  308,  529, 1600,  100,  666,  686,  490,  257,\n",
       "        301,  649,  181,  211,  276,  140,  299,   96,  437,  618, 1641,\n",
       "        647,  566,  274,  514,  183,  201,  516,  221,  510,  357,  313,\n",
       "        518,  316,  602,  365,  310,  506, 1271,  703,  789,  341,  251,\n",
       "        291,  463, 1630, 1054,  369, 1162,  364,  300,  675,  240, 1181,\n",
       "        424,  652,  269,  378,  254,  297,  363,  423,  525,  445,  246,\n",
       "        775,  668,  517,  302,  268,  255,  123,  192,  273,  561],\n",
       "      dtype=int64)"
      ]
     },
     "execution_count": 35,
     "metadata": {},
     "output_type": "execute_result"
    }
   ],
   "source": [
    "# Verificando os valores da coluna user_positive\n",
    "df['user_positive'].unique()"
   ]
  },
  {
   "cell_type": "markdown",
   "id": "adc55a6e-fcea-4ee3-8947-353c96d77bcf",
   "metadata": {},
   "source": [
    "Tudo certo com a coluna, não há inconsistências. "
   ]
  },
  {
   "cell_type": "code",
   "execution_count": 39,
   "id": "ce220933-c58f-45fa-bd9d-a9846b70251e",
   "metadata": {},
   "outputs": [],
   "source": [
    "# Limpando a Coluna User_neutral"
   ]
  },
  {
   "cell_type": "code",
   "execution_count": 36,
   "id": "dc271aca-b762-457a-b499-80701d1832d1",
   "metadata": {},
   "outputs": [
    {
     "data": {
      "text/plain": [
       "array([  6.,  11.,   2.,  20.,  32.,  35.,   1.,   0.,  67.,  25.,  24.,\n",
       "        43., 111.,   3.,   8.,  45.,  34.,  14.,   9.,  16., 192.,  33.,\n",
       "       464.,  65., 260.,   4.,  53., 120.,  13.,  19.,  71.,  17.,  44.,\n",
       "        10.,   7.,  26., 112.,  41., 108.,  12.,   5.,  21.,  62.,  36.,\n",
       "        29.,  60.,  66.,  61., 149., 170.,  50.,  30.,  18.,  15., 113.,\n",
       "        40.,  52., 132.,  75., 101.,  28.,  22.,  23.,  39.,  85.,  55.,\n",
       "        48.,  99.,  46.,  58., 303.,  64.,  38., 173.,  37.,  42.,  90.,\n",
       "        27.,  59., 110.,  89., 118.,  nan, 126., 204., 139.,  51.,  70.,\n",
       "        54., 135., 215.,  77.,  31.,  81.,  76., 164.,  95.,  78.,  98.,\n",
       "       212.,  63., 129.,  96.,  82., 127.,  56.,  84.,  47.,  86., 134.,\n",
       "        83.,  80.,  72.,  49., 148., 103.,  79., 140.,  68., 123.,  87.,\n",
       "        91., 130.,  69.,  88., 105., 124.,  73., 154.,  97., 142., 178.,\n",
       "       328., 128.,  57., 271., 207., 236.,  93.,  94., 225.,  74., 122.,\n",
       "       223., 152., 442., 238., 137.,  92., 153., 176., 158., 141., 297.,\n",
       "       100., 150., 107., 202., 131., 324., 143., 293., 200., 507., 336.,\n",
       "       106., 216., 171., 133., 180., 184., 498., 196., 179., 222., 121.,\n",
       "       114., 188., 146.])"
      ]
     },
     "execution_count": 36,
     "metadata": {},
     "output_type": "execute_result"
    }
   ],
   "source": [
    "# Verificando os valores da coluna user_neutral\n",
    "df['user_neutral'].unique()"
   ]
  },
  {
   "cell_type": "markdown",
   "id": "3ef258ba-b4fa-4781-aba3-a88f2d973127",
   "metadata": {},
   "source": [
    "Existem dados faltantes na coluna que substituiremos posteriormente."
   ]
  },
  {
   "cell_type": "code",
   "execution_count": 40,
   "id": "e6d1e202-4073-4a1d-a813-0cdfe7a4bc97",
   "metadata": {},
   "outputs": [],
   "source": [
    "# Limpando a Coluna User_negative"
   ]
  },
  {
   "cell_type": "code",
   "execution_count": 37,
   "id": "4db162f6-b65c-4fbe-a2fc-597b78afc032",
   "metadata": {},
   "outputs": [
    {
     "data": {
      "text/plain": [
       "array([  11,    6,    1,    0,    7,    9,   10,   81,   19,   17,  117,\n",
       "          3,    5,   24,    4,    2,   20,  270,   14, 2546,   25, 1275,\n",
       "         12,  120,   34,   26,    8,   78,   31,   41,   79,   16,   98,\n",
       "         60,   84,   29,   54,   22,  320, 1179,   21,   77,   13,   28,\n",
       "        103,   43,  125,   50,   23,  295,   27,   55,   57,  240,   59,\n",
       "         32,   49,  144,  106,   45,  155,  150,   33,   90,  450,  141,\n",
       "         58,   15,   65,   97,   62,   37,  123,   56,   18,  138,   86,\n",
       "        169,   35,  390,   61,   44,  192,   76,   30,  133,   87,  184,\n",
       "         42,   38,   51,  832,   73,  149,   66,  191,   36,  200, 2049,\n",
       "        165,   93,  570,  424,   72,  274,  172,  294,  444,   67,   53,\n",
       "        273,  153,  193,  107,  545,  152,   96,  473,  718,   64, 1209,\n",
       "         70,  108,  291,   83,  175,   46,   40,  102,  174,  296,  127,\n",
       "        242,   39,  622,  621,  110,   74,  126,  160,  128,   52,   82,\n",
       "         94,   71,   80,  248,  210,  171,   47,  145,  362,   75,  146,\n",
       "        194,  186,   88,  379,  131,   48,  178,  202,  122,  134,  233,\n",
       "        161,  282,  516,  203,  260,  100,  251,   69,   92,  113,  139,\n",
       "        226,  331,  347, 1675,  158,  429,  181,  339, 1123,  377,  214,\n",
       "         68, 1304, 1721,  421,  259,  163,  648,  205,  154,   99,   91,\n",
       "        101, 1541,  998,  440,  111,  112,   63,  267,  479,  452,  380,\n",
       "        465,  156,  204, 1021,  277,  523,  105, 3001, 1037,  104,   89,\n",
       "         95,  490,  341,  136,  135,  207,  129,  554,  166,  471,  289,\n",
       "        124, 1186, 1083,  119,  317,  147,  371,  130,  496], dtype=int64)"
      ]
     },
     "execution_count": 37,
     "metadata": {},
     "output_type": "execute_result"
    }
   ],
   "source": [
    "#Verificando os valores únicos da coluna user_negative\n",
    "df['user_negative'].unique()"
   ]
  },
  {
   "cell_type": "markdown",
   "id": "296a1e7f-0a12-4f6f-adb1-857f907ca3ee",
   "metadata": {},
   "source": [
    "Verificaremos posteriormente se há a existência de Outliers."
   ]
  },
  {
   "cell_type": "code",
   "execution_count": 41,
   "id": "963435a4-3591-4a80-8cb5-18fa8b321840",
   "metadata": {},
   "outputs": [],
   "source": [
    "# Limpando a Coluna User_score"
   ]
  },
  {
   "cell_type": "code",
   "execution_count": 38,
   "id": "fd7e6525-7b80-445e-9e90-e593b5a4205a",
   "metadata": {},
   "outputs": [
    {
     "data": {
      "text/plain": [
       "array(['7.6', '6.8', '7.2', '5.9', '7.4', '5.7', '8.4', '7.5', '7.3',\n",
       "       '7.1', '4.8', '7.7', '8.1', '5.8', '8.5', '8.0', '7.8', '8.3',\n",
       "       '6.9', '3.4', '3.2', '8.2', '6.0', '6.7', '7.9', '6.3', '5.6',\n",
       "       'tbd', '6.6', '8.6', '5.0', '6.4', '3.3', '3.8', '5.1', '4.4',\n",
       "       '6.2', '7.0', '4.3', '6.5', '4.1', '2.4', '2.1', '2.6', '4.6',\n",
       "       '9.0', '3.6', '3.7', '3.0', '4.0', '5.4', '1.7', '6.1', '1.9',\n",
       "       '4.5', '2.0', '4.9', '5.5', '5.3', '5.2', '2.8', '8.8', '8.7',\n",
       "       '9.2', '9.1', '2.5', '4.2', '3.9', '3.5', '1.4', '4.7', '2.3',\n",
       "       '1.8', '1.3', '1.2', '2.7', '8.9', '2.2', '2.9', '1.5', '3.1',\n",
       "       '1.1', '1.6', '0.4', '0.5', '1.0', '9.4', '0.8', '0.7', '9.3',\n",
       "       '0.1'], dtype=object)"
      ]
     },
     "execution_count": 38,
     "metadata": {},
     "output_type": "execute_result"
    }
   ],
   "source": [
    "#Verificando os valores únicos da coluna\n",
    "df[\"user_score\"].unique()"
   ]
  },
  {
   "cell_type": "markdown",
   "id": "250db841-31ca-46fb-b8bc-36b880800d9f",
   "metadata": {},
   "source": [
    "<h4> 5.3 Inconsistências </h4>"
   ]
  },
  {
   "cell_type": "markdown",
   "id": "69a1ff9e-498e-4ceb-a844-fc26fa73a307",
   "metadata": {},
   "source": [
    "Vamos então utilizar o `np.nan` para declarar valores faltantes nos dados, de modo que substituiremos  informações numéricas que não fazem sentido por NaN que significa \"Not a Number\".Ele permite decodificar um valor faltante mas ainda assim ser lido como um numeral, pois é definido como float."
   ]
  },
  {
   "cell_type": "markdown",
   "id": "d644bc58-644c-486e-999d-f2d14b548c4c",
   "metadata": {},
   "source": [
    "O valor 'tbd' não faz sentido para a nossa análise considerando que a coluna User_score recebe apenas valores referentes a média do score dos usuários. Vamos então utilizar o `np.nan` para declarar valores faltantes nos dados, substituindo 'tbd' por NaN, em seguida, ajustaremos o datatype de 'object' para 'int'."
   ]
  },
  {
   "cell_type": "code",
   "execution_count": 39,
   "id": "0c34cd80-5d19-4765-b1fb-623aa6f25549",
   "metadata": {},
   "outputs": [],
   "source": [
    "# Substituindo 'tbd' por 'NaN'\n",
    "df = df.replace(['tbd'], np.nan)"
   ]
  },
  {
   "cell_type": "markdown",
   "id": "5ddf8073-dd4a-46d8-a5a0-fbcb6cf0db70",
   "metadata": {},
   "source": [
    "<h4> 5.4 Ajustando os Datatypes </h4> "
   ]
  },
  {
   "cell_type": "markdown",
   "id": "1308338e-f4c5-465d-936e-cd52d2c1000c",
   "metadata": {},
   "source": [
    "Pode occorrer de algumas colunas estarem armazenando a informação com o tipo de variavél incorreta.Por exemplo, uma coluna com dados numéricos deve ser armazenada como int ou float, e não como object, que é como o pandas guarda strings, ou seja, valores de texto.\n",
    "Para verificar os tipos de variáveis, basta utilizar a função `.info()`"
   ]
  },
  {
   "cell_type": "markdown",
   "id": "9eda849e-69ea-45b7-8100-0f0c944fad8c",
   "metadata": {},
   "source": [
    "mudaremos então o datatype da coluna user_score de 'objetc' para 'float', e da coluna 'critic_negative' de 'float' para 'int':"
   ]
  },
  {
   "cell_type": "code",
   "execution_count": 40,
   "id": "73473c1b-2ebb-4d91-9728-862bbc11db2f",
   "metadata": {},
   "outputs": [],
   "source": [
    "# Substituindo o datatype da coluna user_score\n",
    "df[\"user_score\"] = df[\"user_score\"].astype(\"float\")"
   ]
  },
  {
   "cell_type": "code",
   "execution_count": 52,
   "id": "c1f58b72-6957-438e-abb4-6150e30f26d6",
   "metadata": {},
   "outputs": [],
   "source": [
    "# Substituindo o datatype da coluna critic_negative\n",
    "df[\"critic_negative\"] = df[\"critic_negative\"].astype(int)"
   ]
  },
  {
   "cell_type": "markdown",
   "id": "d594e7b0-6bb4-428c-a568-13d10e4ebac2",
   "metadata": {},
   "source": [
    "Obs. No caso da coluna \"critic_negative\", o ajuste do datatype requer que não haja linhas vazias. Por este motivo é necessario tratar os dados faltantes executando o código que trata esses campos mais adiante."
   ]
  },
  {
   "cell_type": "markdown",
   "id": "53c170f6-4107-4573-a2e0-738ba75ab229",
   "metadata": {},
   "source": [
    "<h4>5.5 Dados faltantes</h4>"
   ]
  },
  {
   "cell_type": "markdown",
   "id": "b0ee481c-e94e-4001-8042-94f57b7865be",
   "metadata": {},
   "source": [
    "Não existe uma maneira específica mais correta de preencher dados faltantes em um dataFrame, em todas as altervativas há ganhos e recusas.\n",
    "Durante a limpeza nós optamos por fazer algumas substituições, nos dados numéricos utilizamos o NaN e nos categóricos trocamos insconsistências pela moda, que representa o resultado que mais se repete em determinado conjunto de dados.\n",
    "Agora, passaremos um \"pente fino\" para verificar quais colunas ainda nao foram preenchedias e escolheremos qual a melhor maneira de completá-las. "
   ]
  },
  {
   "cell_type": "code",
   "execution_count": 41,
   "id": "1ea590df-34ac-4c05-93a5-06360d245fe0",
   "metadata": {},
   "outputs": [
    {
     "data": {
      "text/plain": [
       "players            7213\n",
       "user_score         2588\n",
       "rating             2284\n",
       "critic_negative    1332\n",
       "developer            58\n",
       "publisher            29\n",
       "user_neutral         12\n",
       "name                  0\n",
       "platform              0\n",
       "genre                 0\n",
       "release_date          0\n",
       "critic_positive       0\n",
       "critic_neutral        0\n",
       "metascore             0\n",
       "user_positive         0\n",
       "user_negative         0\n",
       "dtype: int64"
      ]
     },
     "execution_count": 41,
     "metadata": {},
     "output_type": "execute_result"
    }
   ],
   "source": [
    "# Verificando as colunas com mais valores ausentes\n",
    "df.isnull().sum().sort_values(ascending=False) [:18]"
   ]
  },
  {
   "cell_type": "markdown",
   "id": "4425cdc7-9a75-4723-9d45-5cec3bc3a432",
   "metadata": {},
   "source": [
    "Agora que verificamos quais são as colunas em que existem dados faltantes, vamos substituir pela moda.Entretanto,no caso das colunas numéricas é preciso antes verificar se existem Outliers para que os valores não sejam comprometidos."
   ]
  },
  {
   "cell_type": "code",
   "execution_count": 42,
   "id": "5da83d42-1268-4b06-8805-79af97d00cf6",
   "metadata": {},
   "outputs": [],
   "source": [
    "# Substituindo dados faltantes na coluna players\n",
    "df[\"players\"].fillna(df['players'].mode()[0], inplace=True)"
   ]
  },
  {
   "cell_type": "code",
   "execution_count": 43,
   "id": "46295993-a8bb-46f5-826b-d3fb0d2ec77d",
   "metadata": {},
   "outputs": [],
   "source": [
    "# Substituindo dados faltantes na coluna rating\n",
    "df[\"rating\"].fillna(df['rating'].mode()[0], inplace=True)"
   ]
  },
  {
   "cell_type": "code",
   "execution_count": 44,
   "id": "60028b96-802f-48a8-b8c6-447c3ba12377",
   "metadata": {},
   "outputs": [],
   "source": [
    "# Substituindo dados faltantes na coluna developer\n",
    "df[\"developer\"].fillna(df['developer'].mode()[0], inplace=True)"
   ]
  },
  {
   "cell_type": "code",
   "execution_count": 45,
   "id": "1d37f253-6496-4091-980f-5657027bfe2e",
   "metadata": {},
   "outputs": [],
   "source": [
    "# Substituindo dados faltantes na coluna publisher\n",
    "df[\"publisher\"].fillna(df['publisher'].mode()[0], inplace=True)"
   ]
  },
  {
   "cell_type": "markdown",
   "id": "bea7a443-87f0-4eb9-abab-f16bd5f53345",
   "metadata": {},
   "source": [
    "<h4>5.6 Outliers </h4>"
   ]
  },
  {
   "cell_type": "markdown",
   "id": "158c815d-bf74-45f4-aca4-e3422fbf0f58",
   "metadata": {},
   "source": [
    "Os outliers são os dados que se diferenciam drasticamente de todos os outros. Ele são valores que fogem da normalidade e que podem causar anomalias nos resultados obtidos por meio de algoritmos e sistemas de análise.\n",
    "Por exemplo, se quisermos generalizar a renda média de cada pessoa em uma determinada região e temos acesso a uma amostra para fazer um levantamento de dados, se o Bill Gates estiver no meio, provavelmente, ele será um outlier, pois ele vai “puxar” a média do nosso grupo muito para cima, comprometendo a análise e agravando os insights."
   ]
  },
  {
   "cell_type": "code",
   "execution_count": 46,
   "id": "0d947d55-c975-41e2-9a4c-9a42cc67a706",
   "metadata": {},
   "outputs": [
    {
     "data": {
      "image/png": "[encoded data removed]",
      "text/plain": [
       "<Figure size 360x576 with 1 Axes>"
      ]
     },
     "metadata": {
      "needs_background": "light"
     },
     "output_type": "display_data"
    }
   ],
   "source": [
    "# Verificando a existência de outliers na coluna user_score\n",
    "games = df.drop_duplicates(subset = [\"name\"])\n",
    "\n",
    "plt.figure(figsize = (5,8))\n",
    "sns.boxplot(y = \"user_score\", data = games, color = \"hotpink\")\n",
    "plt.title(\"Column User_score's Boxplot\")\n",
    "plt.show()"
   ]
  },
  {
   "cell_type": "markdown",
   "id": "afbfbfa5-19a6-4269-8126-4fe9f7fcf730",
   "metadata": {},
   "source": [
    "Vamos então aplicar a média dos valores da coluna desconsiderando os outliers (valores menores do que 4):"
   ]
  },
  {
   "cell_type": "code",
   "execution_count": 47,
   "id": "f93552ea-03f8-4314-9648-6c76376425c0",
   "metadata": {},
   "outputs": [],
   "source": [
    "#Seleciona as linhas da coluna \"user_score\" em que os valores são maiores do que 4.\n",
    "above4 = df[df['user_score']>4]\n",
    "\n",
    "#Calcula a média dos valores das linhas selecionadas\n",
    "media_user_score = above4['user_score'].mean()\n",
    "\n",
    "#Substitui os valores faltantes pela média dos valores maiores do que 4.\n",
    "df[\"user_score\"].fillna(media_user_score, inplace=True)"
   ]
  },
  {
   "cell_type": "code",
   "execution_count": 48,
   "id": "6f8c126d-9193-40f2-ba6f-959e12e4b370",
   "metadata": {},
   "outputs": [
    {
     "data": {
      "image/png": "[encoded data removed]",
      "text/plain": [
       "<Figure size 360x576 with 1 Axes>"
      ]
     },
     "metadata": {
      "needs_background": "light"
     },
     "output_type": "display_data"
    }
   ],
   "source": [
    "# Verificando a existência de outliers na coluna critic_negative\n",
    "games = df.drop_duplicates(subset = [\"name\"])\n",
    "\n",
    "plt.figure(figsize = (5,8))\n",
    "sns.boxplot(y = \"critic_negative\", data = games, color = 'lightblue')\n",
    "plt.title(\"Critic_negative's Boxplot\")\n",
    "plt.show()"
   ]
  },
  {
   "cell_type": "markdown",
   "id": "11dfc5de-f8d5-42a2-ab90-cc396868afba",
   "metadata": {},
   "source": [
    "Vamos então aplicar a média dos valores da coluna desconsiderando os outliers (valores menores do que 5):"
   ]
  },
  {
   "cell_type": "code",
   "execution_count": 49,
   "id": "6aa33265-4d9c-43d6-af0d-122bbfaf6944",
   "metadata": {},
   "outputs": [],
   "source": [
    "#Selecionando as linhas da coluna \"critic_negative\" em que os valores são menores do que 5.\n",
    "under5 = df[df['critic_negative']<5]\n",
    "\n",
    "#Calculando a média dos valores das linhas selecionadas\n",
    "media_critic_negative = under5['critic_negative'].mean()\n",
    "\n",
    "#Substituindo os valores faltantes pela média calculada.\n",
    "df['critic_negative'].fillna(media_critic_negative, inplace=True)"
   ]
  },
  {
   "cell_type": "code",
   "execution_count": 50,
   "id": "97427e7a-af46-450d-839f-adcf38b7a34e",
   "metadata": {},
   "outputs": [
    {
     "data": {
      "image/png": "[encoded data removed]",
      "text/plain": [
       "<Figure size 360x576 with 1 Axes>"
      ]
     },
     "metadata": {
      "needs_background": "light"
     },
     "output_type": "display_data"
    }
   ],
   "source": [
    "# Verificando a existência de outliers na coluna user_neutral\n",
    "games = df.drop_duplicates(subset = [\"name\"])\n",
    "\n",
    "plt.figure(figsize = (5,8))\n",
    "sns.boxplot(y = \"user_neutral\", data = games, color = 'orange')\n",
    "plt.title(\"User_neutral's Boxplot\")\n",
    "plt.show()"
   ]
  },
  {
   "cell_type": "markdown",
   "id": "20fe7d25-fbed-41f0-9339-98ec2e12f361",
   "metadata": {},
   "source": [
    "Optamos por susbtituir os dados faltantes da coluna \"user_neutral\" pela média dos dados inferiores a 25:"
   ]
  },
  {
   "cell_type": "code",
   "execution_count": 51,
   "id": "7d2eb21f-6a8f-46ae-9598-6f3723e82f4f",
   "metadata": {},
   "outputs": [],
   "source": [
    "#Selecionando as linhas da coluna \"user_neutral\" em que os valores são menores do que 25\n",
    "under25 = df[df['user_neutral']<25]\n",
    "\n",
    "#Calculando a média dos valores das linhas selecionadas\n",
    "media_user_neutral = under25['user_neutral'].mean()\n",
    "\n",
    "#Substituindo os valores faltantes pela média calculada.\n",
    "df['user_neutral'].fillna(media_user_neutral, inplace=True)"
   ]
  },
  {
   "cell_type": "markdown",
   "id": "cd7e11f1-572d-448b-a328-467de6554f54",
   "metadata": {},
   "source": [
    "Agora vamos ultilizar a função `info()`para verificar se está tudo certo com a limpeza dos dados:"
   ]
  },
  {
   "cell_type": "code",
   "execution_count": 53,
   "id": "f7e3f843-25bc-43c8-8f40-d19d35b3d282",
   "metadata": {},
   "outputs": [
    {
     "name": "stdout",
     "output_type": "stream",
     "text": [
      "<class 'pandas.core.frame.DataFrame'>\n",
      "Int64Index: 20378 entries, 14798 to 15665\n",
      "Data columns (total 16 columns):\n",
      " #   Column           Non-Null Count  Dtype  \n",
      "---  ------           --------------  -----  \n",
      " 0   name             20378 non-null  object \n",
      " 1   platform         20378 non-null  object \n",
      " 2   developer        20378 non-null  object \n",
      " 3   publisher        20378 non-null  object \n",
      " 4   genre            20378 non-null  object \n",
      " 5   players          20378 non-null  object \n",
      " 6   rating           20378 non-null  object \n",
      " 7   release_date     20378 non-null  int64  \n",
      " 8   critic_positive  20378 non-null  int64  \n",
      " 9   critic_neutral   20378 non-null  int64  \n",
      " 10  critic_negative  20378 non-null  int32  \n",
      " 11  metascore        20378 non-null  int64  \n",
      " 12  user_positive    20378 non-null  int64  \n",
      " 13  user_neutral     20378 non-null  float64\n",
      " 14  user_negative    20378 non-null  int64  \n",
      " 15  user_score       20378 non-null  float64\n",
      "dtypes: float64(2), int32(1), int64(6), object(7)\n",
      "memory usage: 2.6+ MB\n"
     ]
    }
   ],
   "source": [
    "df.info()"
   ]
  },
  {
   "cell_type": "markdown",
   "id": "a226feb1-3a77-4bf5-b00a-e15895196fad",
   "metadata": {},
   "source": [
    "Tudo certo, limpeza de dados finalizada!"
   ]
  },
  {
   "cell_type": "markdown",
   "id": "ad2d0f4b-ff0a-40c6-a2ab-85fa5abf7554",
   "metadata": {},
   "source": [
    "<h3> 6. Analisando os Dados </h3>"
   ]
  },
  {
   "cell_type": "markdown",
   "id": "0b36b1d2-bd97-4049-9c22-84dadfcc60f7",
   "metadata": {},
   "source": [
    "Antes de começarmos é preciso fazer algumas definições para melhorar o entendimento dos gráficos, para que as análises fiquem mais claras e fáceis."
   ]
  },
  {
   "cell_type": "code",
   "execution_count": null,
   "id": "3e7639dc-f1fe-46f6-ab5a-36670d8caa67",
   "metadata": {},
   "outputs": [],
   "source": [
    "#Define a paleta de cores:\n",
    "sns.set_palette(\"gist_rainbow\")\n",
    "\n",
    "#Define o estilo para o fundo dos gráficos:\n",
    "sns.set_style(\"darkgrid\")"
   ]
  },
  {
   "cell_type": "markdown",
   "id": "03597403-2699-48d9-92a7-cdf3d2c61445",
   "metadata": {},
   "source": [
    "## Os Jogos Mais Bem Avaliados Pela Crítica"
   ]
  },
  {
   "cell_type": "code",
   "execution_count": 54,
   "id": "f2ecc8ce-7286-46da-84d9-85a018b52095",
   "metadata": {},
   "outputs": [
    {
     "data": {
      "image/png": "[encoded data removed]",
      "text/plain": [
       "<Figure size 720x1008 with 1 Axes>"
      ]
     },
     "metadata": {
      "needs_background": "light"
     },
     "output_type": "display_data"
    }
   ],
   "source": [
    "# criando um dataframe apenas com as colunas \"name\" e \"metascore\"\n",
    "name_metascore = df[[\"name\", \"metascore\"]]\n",
    "top_critics = name_metascore.loc[(df['metascore'] > 95)].drop_duplicates(subset=['name'])\n",
    "\n",
    "# plotando o gráfico\n",
    "plt.figure(figsize = (10,14))\n",
    "sns.barplot(x = \"metascore\", y = \"name\", data = top_critics.sort_values(\"metascore\", ascending = False))\n",
    "plt.ylabel(\"Name\")\n",
    "plt.xlabel(\"Metascore\")\n",
    "plt.xlim(90, 100)\n",
    "plt.title(\"Os jogos mais bem avaliados pela crítica\")\n",
    "plt.show()"
   ]
  },
  {
   "cell_type": "code",
   "execution_count": null,
   "id": "c41550ef-3829-4bde-990b-bd14d1ac287c",
   "metadata": {},
   "outputs": [],
   "source": [
    "Percemos então que"
   ]
  },
  {
   "cell_type": "markdown",
   "id": "d3d1a34f-84da-4974-b6db-f9535c1f52e2",
   "metadata": {},
   "source": [
    "## Usuarios x name"
   ]
  },
  {
   "cell_type": "code",
   "execution_count": null,
   "id": "c650720d-542b-4786-850c-66b6f2fb83cc",
   "metadata": {},
   "outputs": [],
   "source": []
  },
  {
   "cell_type": "markdown",
   "id": "5a2a891a-bf4d-402e-980f-926f3722199b",
   "metadata": {},
   "source": [
    "## Usuarios x Crítica"
   ]
  },
  {
   "cell_type": "markdown",
   "id": "100fae5b-663a-4688-9018-9e2bdfb582de",
   "metadata": {},
   "source": [
    "## Ano x Gênero"
   ]
  },
  {
   "cell_type": "markdown",
   "id": "32e90452-cb26-48d1-8042-c0e08d000b75",
   "metadata": {},
   "source": [
    "## Players x Plataform"
   ]
  },
  {
   "cell_type": "code",
   "execution_count": null,
   "id": "a1b792c4-b356-47de-bef1-19ab3f08d9c5",
   "metadata": {},
   "outputs": [],
   "source": []
  }
 ],
 "metadata": {
  "kernelspec": {
   "display_name": "Python 3 (ipykernel)",
   "language": "python",
   "name": "python3"
  },
  "language_info": {
   "codemirror_mode": {
    "name": "ipython",
    "version": 3
   },
   "file_extension": ".py",
   "mimetype": "text/x-python",
   "name": "python",
   "nbconvert_exporter": "python",
   "pygments_lexer": "ipython3",
   "version": "3.9.12"
  }
 },
 "nbformat": 4,
 "nbformat_minor": 5
}
